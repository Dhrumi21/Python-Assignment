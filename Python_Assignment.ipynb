{
  "nbformat": 4,
  "nbformat_minor": 0,
  "metadata": {
    "colab": {
      "provenance": []
    },
    "kernelspec": {
      "name": "python3",
      "display_name": "Python 3"
    },
    "language_info": {
      "name": "python"
    }
  },
  "cells": [
    {
      "cell_type": "code",
      "execution_count": 26,
      "metadata": {
        "id": "waa8gF2ySyiP"
      },
      "outputs": [],
      "source": [
        "# Importing required libraries\n",
        "import numpy as np  # For numerical computations and array operations\n",
        "import pandas as pd  # For data manipulation and analysis\n",
        "from functools import reduce  # For functional programming utilities\n",
        "import re  # For regular expressions and pattern matching\n"
      ]
    },
    {
      "cell_type": "code",
      "source": [
        "import matplotlib.pyplot as plt  # For data visualization\n"
      ],
      "metadata": {
        "id": "9iIJmg4eUMSL"
      },
      "execution_count": 27,
      "outputs": []
    },
    {
      "cell_type": "markdown",
      "source": [
        "1. Python Functions"
      ],
      "metadata": {
        "id": "D64UdTn1UVcl"
      }
    },
    {
      "cell_type": "code",
      "source": [
        "# Function with parameters and return value\n",
        "def add_numbers(a, b):\n",
        "    return a + b\n",
        "print(\"Sum:\", add_numbers(5, 10))\n"
      ],
      "metadata": {
        "colab": {
          "base_uri": "https://localhost:8080/",
          "height": 0
        },
        "id": "v5vnVn86UOzV",
        "outputId": "222c1cd1-8d22-40ce-d53a-346f11b42a9f"
      },
      "execution_count": 28,
      "outputs": [
        {
          "output_type": "stream",
          "name": "stdout",
          "text": [
            "Sum: 15\n"
          ]
        }
      ]
    },
    {
      "cell_type": "code",
      "source": [
        "# Function with default argument\n",
        "def greet(name=\"Guest\"):\n",
        "    print(f\"Hello, {name}!\")\n",
        "greet()\n",
        "greet(\"Alice\")"
      ],
      "metadata": {
        "colab": {
          "base_uri": "https://localhost:8080/",
          "height": 0
        },
        "id": "CG-LlzXYU3OK",
        "outputId": "5aeafecd-007b-43e6-a51c-20fbfe72461d"
      },
      "execution_count": 29,
      "outputs": [
        {
          "output_type": "stream",
          "name": "stdout",
          "text": [
            "Hello, Guest!\n",
            "Hello, Alice!\n"
          ]
        }
      ]
    },
    {
      "cell_type": "code",
      "source": [
        "# Recursive function\n",
        "def factorial(n):\n",
        "    if n == 1:\n",
        "        return 1\n",
        "    return n * factorial(n - 1)\n",
        "print(\"Factorial of 5:\", factorial(5))"
      ],
      "metadata": {
        "colab": {
          "base_uri": "https://localhost:8080/",
          "height": 0
        },
        "id": "r_EJU40NVV_1",
        "outputId": "f227c431-417b-4db0-bec0-2641e36802c4"
      },
      "execution_count": 30,
      "outputs": [
        {
          "output_type": "stream",
          "name": "stdout",
          "text": [
            "Factorial of 5: 120\n"
          ]
        }
      ]
    },
    {
      "cell_type": "code",
      "source": [
        " # Function scope demonstration\n",
        "def myfunc1():\n",
        "  x = \"Jane\"\n",
        "  def myfunc2():\n",
        "    nonlocal x\n",
        "    x = \"hello\"\n",
        "  myfunc2()\n",
        "  return x\n",
        "\n",
        "print(myfunc1())\n",
        "\n",
        "# Function Global scope demonstration\n",
        "\n",
        "\n",
        "def myfunc():\n",
        "  global x\n",
        "  x = 300\n",
        "\n",
        "myfunc()\n",
        "\n",
        "print(x)"
      ],
      "metadata": {
        "colab": {
          "base_uri": "https://localhost:8080/",
          "height": 0
        },
        "id": "Lf3smUoQVW_o",
        "outputId": "d805f703-3155-43a6-8eee-074f2dffe21a"
      },
      "execution_count": 31,
      "outputs": [
        {
          "output_type": "stream",
          "name": "stdout",
          "text": [
            "hello\n",
            "300\n"
          ]
        }
      ]
    },
    {
      "cell_type": "code",
      "source": [
        "# Docstring example\n",
        "def multiply(a, b):\n",
        "    \"\"\"This function multiplies two numbers.\"\"\"\n",
        "    return a * b\n",
        "help(multiply)"
      ],
      "metadata": {
        "colab": {
          "base_uri": "https://localhost:8080/",
          "height": 0
        },
        "id": "PFrWbHTbVlbH",
        "outputId": "9304963e-cb9e-471c-bfe8-46a649b51bd7"
      },
      "execution_count": 32,
      "outputs": [
        {
          "output_type": "stream",
          "name": "stdout",
          "text": [
            "Help on function multiply in module __main__:\n",
            "\n",
            "multiply(a, b)\n",
            "    This function multiplies two numbers.\n",
            "\n"
          ]
        }
      ]
    },
    {
      "cell_type": "markdown",
      "source": [
        "2. Lambda Functions"
      ],
      "metadata": {
        "id": "neDbrrlwZoQ-"
      }
    },
    {
      "cell_type": "code",
      "source": [
        "# Simple lambda function\n",
        "square = lambda x: x * x\n",
        "print(\"Square of 4:\", square(4))\n",
        "\n"
      ],
      "metadata": {
        "colab": {
          "base_uri": "https://localhost:8080/",
          "height": 0
        },
        "id": "UUnS6QqwZnqz",
        "outputId": "b360c33e-f33b-4c98-fda1-16144e3c5dd4"
      },
      "execution_count": 33,
      "outputs": [
        {
          "output_type": "stream",
          "name": "stdout",
          "text": [
            "Square of 4: 16\n"
          ]
        }
      ]
    },
    {
      "cell_type": "code",
      "source": [
        "# Using lambda with map\n",
        "numbers = [1, 2, 3, 4]\n",
        "squared = list(map(lambda x: x**2, numbers))\n",
        "print(\"Squared numbers:\", squared)\n",
        "\n"
      ],
      "metadata": {
        "colab": {
          "base_uri": "https://localhost:8080/",
          "height": 0
        },
        "id": "zE9EP8UxZ279",
        "outputId": "826fab8c-a37e-4f13-df22-50ef8fc7ee64"
      },
      "execution_count": 34,
      "outputs": [
        {
          "output_type": "stream",
          "name": "stdout",
          "text": [
            "Squared numbers: [1, 4, 9, 16]\n"
          ]
        }
      ]
    },
    {
      "cell_type": "code",
      "source": [
        "# Using lambda with filter\n",
        "even_numbers = list(filter(lambda x: x % 2 == 0, numbers))\n",
        "print(\"Even numbers:\", even_numbers)\n",
        "\n"
      ],
      "metadata": {
        "colab": {
          "base_uri": "https://localhost:8080/",
          "height": 0
        },
        "id": "jOo5HNcZZ4kH",
        "outputId": "be5e4b0d-825a-4976-b90a-cbc869debbd1"
      },
      "execution_count": 35,
      "outputs": [
        {
          "output_type": "stream",
          "name": "stdout",
          "text": [
            "Even numbers: [2, 4]\n"
          ]
        }
      ]
    },
    {
      "cell_type": "code",
      "source": [
        "# Using lambda with reduce\n",
        "from functools import reduce\n",
        "product = reduce(lambda x, y: x * y, numbers)\n",
        "print(\"Product of numbers:\", product)\n"
      ],
      "metadata": {
        "colab": {
          "base_uri": "https://localhost:8080/",
          "height": 0
        },
        "id": "Wf1W6gHbZ5k1",
        "outputId": "91567687-f032-465d-d935-41b57c29224d"
      },
      "execution_count": 36,
      "outputs": [
        {
          "output_type": "stream",
          "name": "stdout",
          "text": [
            "Product of numbers: 24\n"
          ]
        }
      ]
    },
    {
      "cell_type": "markdown",
      "source": [
        "3. NumPy\n",
        "\n"
      ],
      "metadata": {
        "id": "g4Hcv6RdZ8gd"
      }
    },
    {
      "cell_type": "code",
      "source": [
        "import numpy as np\n",
        "\n",
        "# Create arrays\n",
        "array_1d = np.array([1, 2, 3])\n",
        "array_2d = np.array([[1, 2], [3, 4]])\n",
        "print(\"1D Array:\", array_1d)\n",
        "print(\"2D Array:\\n\", array_2d)\n",
        "\n"
      ],
      "metadata": {
        "colab": {
          "base_uri": "https://localhost:8080/",
          "height": 0
        },
        "id": "-9kaMMfpaCEV",
        "outputId": "fae5e020-083b-46b5-bb34-4baa1c96d613"
      },
      "execution_count": 37,
      "outputs": [
        {
          "output_type": "stream",
          "name": "stdout",
          "text": [
            "1D Array: [1 2 3]\n",
            "2D Array:\n",
            " [[1 2]\n",
            " [3 4]]\n"
          ]
        }
      ]
    },
    {
      "cell_type": "code",
      "source": [
        "# Arithmetic operations\n",
        "print(\"Array + 2:\", array_1d + 2)\n",
        "\n"
      ],
      "metadata": {
        "colab": {
          "base_uri": "https://localhost:8080/",
          "height": 0
        },
        "id": "71ET9yOqaFCs",
        "outputId": "21745635-3163-4685-bfcd-f6194d9ed27e"
      },
      "execution_count": 38,
      "outputs": [
        {
          "output_type": "stream",
          "name": "stdout",
          "text": [
            "Array + 2: [3 4 5]\n"
          ]
        }
      ]
    },
    {
      "cell_type": "code",
      "source": [
        "# Indexing and slicing\n",
        "print(\"Element at index 1:\", array_1d[1])\n",
        "print(\"Slice:\", array_2d[0, :])\n",
        "\n"
      ],
      "metadata": {
        "colab": {
          "base_uri": "https://localhost:8080/",
          "height": 0
        },
        "id": "RiUdDIPaaGWD",
        "outputId": "4b047954-8840-44fd-98ed-fc99322b87e7"
      },
      "execution_count": 39,
      "outputs": [
        {
          "output_type": "stream",
          "name": "stdout",
          "text": [
            "Element at index 1: 2\n",
            "Slice: [1 2]\n"
          ]
        }
      ]
    },
    {
      "cell_type": "code",
      "source": [
        "# Array manipulation\n",
        "reshaped = array_1d.reshape(3, 1)\n",
        "print(\"Reshaped array:\\n\", reshaped)\n",
        "\n"
      ],
      "metadata": {
        "colab": {
          "base_uri": "https://localhost:8080/",
          "height": 0
        },
        "id": "91xK6qLkaHft",
        "outputId": "28402a52-a90d-4e1b-c1df-5eff547c5e6b"
      },
      "execution_count": 40,
      "outputs": [
        {
          "output_type": "stream",
          "name": "stdout",
          "text": [
            "Reshaped array:\n",
            " [[1]\n",
            " [2]\n",
            " [3]]\n"
          ]
        }
      ]
    },
    {
      "cell_type": "code",
      "source": [
        "# Random number generator\n",
        "random_array = np.random.rand(3, 3)\n",
        "print(\"Random Array:\\n\", random_array)\n"
      ],
      "metadata": {
        "colab": {
          "base_uri": "https://localhost:8080/",
          "height": 0
        },
        "id": "fs0Q0CcPaIuR",
        "outputId": "205de989-6187-4cfd-fa8e-89a345cf6b80"
      },
      "execution_count": 41,
      "outputs": [
        {
          "output_type": "stream",
          "name": "stdout",
          "text": [
            "Random Array:\n",
            " [[0.94922626 0.89065052 0.80968861]\n",
            " [0.21394262 0.499866   0.07311438]\n",
            " [0.92022931 0.86306842 0.12659376]]\n"
          ]
        }
      ]
    },
    {
      "cell_type": "markdown",
      "source": [
        "4. Pandas"
      ],
      "metadata": {
        "id": "FkVNgBgAaMLH"
      }
    },
    {
      "cell_type": "code",
      "source": [
        "import pandas as pd\n",
        "\n",
        "# Create DataFrame\n",
        "data = {\"Name\": [\"Alice\", \"Bob\"], \"Age\": [25, 30]}\n",
        "df = pd.DataFrame(data)\n",
        "print(df)\n",
        "\n",
        "\n"
      ],
      "metadata": {
        "colab": {
          "base_uri": "https://localhost:8080/",
          "height": 0
        },
        "id": "T7RWV429aSmx",
        "outputId": "d085facf-00be-443e-b02c-35819a0eb7e1"
      },
      "execution_count": 42,
      "outputs": [
        {
          "output_type": "stream",
          "name": "stdout",
          "text": [
            "    Name  Age\n",
            "0  Alice   25\n",
            "1    Bob   30\n"
          ]
        }
      ]
    },
    {
      "cell_type": "code",
      "source": [
        "file_path = '/sample_order_data.csv'  # Update with your file name\n",
        "df=pd.read_csv(file_path)\n",
        "df.head(5)"
      ],
      "metadata": {
        "colab": {
          "base_uri": "https://localhost:8080/",
          "height": 206
        },
        "id": "gWCXPoBOhqqG",
        "outputId": "9a2ccf57-9579-4b9c-a5e4-5cb3db16a4dd"
      },
      "execution_count": 43,
      "outputs": [
        {
          "output_type": "execute_result",
          "data": {
            "text/plain": [
              "   OrderID  CustomerID   OrderDate  ProductID ProductName  Quantity  \\\n",
              "0      101        1001  2023-01-01       2001   Product A         1   \n",
              "1      102        1002  2023-01-02       2002   Product B         2   \n",
              "2      103        1003  2023-01-03       2003   Product C         3   \n",
              "3      104        1004  2023-01-04       2004   Product D         4   \n",
              "4      105        1005  2023-01-05       2001   Product A         2   \n",
              "\n",
              "   UnitPrice  TotalPrice  \n",
              "0       10.0        10.0  \n",
              "1       15.5        31.0  \n",
              "2       12.0        36.0  \n",
              "3        9.5        38.0  \n",
              "4       10.0        20.0  "
            ],
            "text/html": [
              "\n",
              "  <div id=\"df-44084fa4-a0b7-48c5-8dc0-b1235e51fb94\" class=\"colab-df-container\">\n",
              "    <div>\n",
              "<style scoped>\n",
              "    .dataframe tbody tr th:only-of-type {\n",
              "        vertical-align: middle;\n",
              "    }\n",
              "\n",
              "    .dataframe tbody tr th {\n",
              "        vertical-align: top;\n",
              "    }\n",
              "\n",
              "    .dataframe thead th {\n",
              "        text-align: right;\n",
              "    }\n",
              "</style>\n",
              "<table border=\"1\" class=\"dataframe\">\n",
              "  <thead>\n",
              "    <tr style=\"text-align: right;\">\n",
              "      <th></th>\n",
              "      <th>OrderID</th>\n",
              "      <th>CustomerID</th>\n",
              "      <th>OrderDate</th>\n",
              "      <th>ProductID</th>\n",
              "      <th>ProductName</th>\n",
              "      <th>Quantity</th>\n",
              "      <th>UnitPrice</th>\n",
              "      <th>TotalPrice</th>\n",
              "    </tr>\n",
              "  </thead>\n",
              "  <tbody>\n",
              "    <tr>\n",
              "      <th>0</th>\n",
              "      <td>101</td>\n",
              "      <td>1001</td>\n",
              "      <td>2023-01-01</td>\n",
              "      <td>2001</td>\n",
              "      <td>Product A</td>\n",
              "      <td>1</td>\n",
              "      <td>10.0</td>\n",
              "      <td>10.0</td>\n",
              "    </tr>\n",
              "    <tr>\n",
              "      <th>1</th>\n",
              "      <td>102</td>\n",
              "      <td>1002</td>\n",
              "      <td>2023-01-02</td>\n",
              "      <td>2002</td>\n",
              "      <td>Product B</td>\n",
              "      <td>2</td>\n",
              "      <td>15.5</td>\n",
              "      <td>31.0</td>\n",
              "    </tr>\n",
              "    <tr>\n",
              "      <th>2</th>\n",
              "      <td>103</td>\n",
              "      <td>1003</td>\n",
              "      <td>2023-01-03</td>\n",
              "      <td>2003</td>\n",
              "      <td>Product C</td>\n",
              "      <td>3</td>\n",
              "      <td>12.0</td>\n",
              "      <td>36.0</td>\n",
              "    </tr>\n",
              "    <tr>\n",
              "      <th>3</th>\n",
              "      <td>104</td>\n",
              "      <td>1004</td>\n",
              "      <td>2023-01-04</td>\n",
              "      <td>2004</td>\n",
              "      <td>Product D</td>\n",
              "      <td>4</td>\n",
              "      <td>9.5</td>\n",
              "      <td>38.0</td>\n",
              "    </tr>\n",
              "    <tr>\n",
              "      <th>4</th>\n",
              "      <td>105</td>\n",
              "      <td>1005</td>\n",
              "      <td>2023-01-05</td>\n",
              "      <td>2001</td>\n",
              "      <td>Product A</td>\n",
              "      <td>2</td>\n",
              "      <td>10.0</td>\n",
              "      <td>20.0</td>\n",
              "    </tr>\n",
              "  </tbody>\n",
              "</table>\n",
              "</div>\n",
              "    <div class=\"colab-df-buttons\">\n",
              "\n",
              "  <div class=\"colab-df-container\">\n",
              "    <button class=\"colab-df-convert\" onclick=\"convertToInteractive('df-44084fa4-a0b7-48c5-8dc0-b1235e51fb94')\"\n",
              "            title=\"Convert this dataframe to an interactive table.\"\n",
              "            style=\"display:none;\">\n",
              "\n",
              "  <svg xmlns=\"http://www.w3.org/2000/svg\" height=\"24px\" viewBox=\"0 -960 960 960\">\n",
              "    <path d=\"M120-120v-720h720v720H120Zm60-500h600v-160H180v160Zm220 220h160v-160H400v160Zm0 220h160v-160H400v160ZM180-400h160v-160H180v160Zm440 0h160v-160H620v160ZM180-180h160v-160H180v160Zm440 0h160v-160H620v160Z\"/>\n",
              "  </svg>\n",
              "    </button>\n",
              "\n",
              "  <style>\n",
              "    .colab-df-container {\n",
              "      display:flex;\n",
              "      gap: 12px;\n",
              "    }\n",
              "\n",
              "    .colab-df-convert {\n",
              "      background-color: #E8F0FE;\n",
              "      border: none;\n",
              "      border-radius: 50%;\n",
              "      cursor: pointer;\n",
              "      display: none;\n",
              "      fill: #1967D2;\n",
              "      height: 32px;\n",
              "      padding: 0 0 0 0;\n",
              "      width: 32px;\n",
              "    }\n",
              "\n",
              "    .colab-df-convert:hover {\n",
              "      background-color: #E2EBFA;\n",
              "      box-shadow: 0px 1px 2px rgba(60, 64, 67, 0.3), 0px 1px 3px 1px rgba(60, 64, 67, 0.15);\n",
              "      fill: #174EA6;\n",
              "    }\n",
              "\n",
              "    .colab-df-buttons div {\n",
              "      margin-bottom: 4px;\n",
              "    }\n",
              "\n",
              "    [theme=dark] .colab-df-convert {\n",
              "      background-color: #3B4455;\n",
              "      fill: #D2E3FC;\n",
              "    }\n",
              "\n",
              "    [theme=dark] .colab-df-convert:hover {\n",
              "      background-color: #434B5C;\n",
              "      box-shadow: 0px 1px 3px 1px rgba(0, 0, 0, 0.15);\n",
              "      filter: drop-shadow(0px 1px 2px rgba(0, 0, 0, 0.3));\n",
              "      fill: #FFFFFF;\n",
              "    }\n",
              "  </style>\n",
              "\n",
              "    <script>\n",
              "      const buttonEl =\n",
              "        document.querySelector('#df-44084fa4-a0b7-48c5-8dc0-b1235e51fb94 button.colab-df-convert');\n",
              "      buttonEl.style.display =\n",
              "        google.colab.kernel.accessAllowed ? 'block' : 'none';\n",
              "\n",
              "      async function convertToInteractive(key) {\n",
              "        const element = document.querySelector('#df-44084fa4-a0b7-48c5-8dc0-b1235e51fb94');\n",
              "        const dataTable =\n",
              "          await google.colab.kernel.invokeFunction('convertToInteractive',\n",
              "                                                    [key], {});\n",
              "        if (!dataTable) return;\n",
              "\n",
              "        const docLinkHtml = 'Like what you see? Visit the ' +\n",
              "          '<a target=\"_blank\" href=https://colab.research.google.com/notebooks/data_table.ipynb>data table notebook</a>'\n",
              "          + ' to learn more about interactive tables.';\n",
              "        element.innerHTML = '';\n",
              "        dataTable['output_type'] = 'display_data';\n",
              "        await google.colab.output.renderOutput(dataTable, element);\n",
              "        const docLink = document.createElement('div');\n",
              "        docLink.innerHTML = docLinkHtml;\n",
              "        element.appendChild(docLink);\n",
              "      }\n",
              "    </script>\n",
              "  </div>\n",
              "\n",
              "\n",
              "<div id=\"df-0bd546fc-4a1a-4452-a461-93a6684ac8fb\">\n",
              "  <button class=\"colab-df-quickchart\" onclick=\"quickchart('df-0bd546fc-4a1a-4452-a461-93a6684ac8fb')\"\n",
              "            title=\"Suggest charts\"\n",
              "            style=\"display:none;\">\n",
              "\n",
              "<svg xmlns=\"http://www.w3.org/2000/svg\" height=\"24px\"viewBox=\"0 0 24 24\"\n",
              "     width=\"24px\">\n",
              "    <g>\n",
              "        <path d=\"M19 3H5c-1.1 0-2 .9-2 2v14c0 1.1.9 2 2 2h14c1.1 0 2-.9 2-2V5c0-1.1-.9-2-2-2zM9 17H7v-7h2v7zm4 0h-2V7h2v10zm4 0h-2v-4h2v4z\"/>\n",
              "    </g>\n",
              "</svg>\n",
              "  </button>\n",
              "\n",
              "<style>\n",
              "  .colab-df-quickchart {\n",
              "      --bg-color: #E8F0FE;\n",
              "      --fill-color: #1967D2;\n",
              "      --hover-bg-color: #E2EBFA;\n",
              "      --hover-fill-color: #174EA6;\n",
              "      --disabled-fill-color: #AAA;\n",
              "      --disabled-bg-color: #DDD;\n",
              "  }\n",
              "\n",
              "  [theme=dark] .colab-df-quickchart {\n",
              "      --bg-color: #3B4455;\n",
              "      --fill-color: #D2E3FC;\n",
              "      --hover-bg-color: #434B5C;\n",
              "      --hover-fill-color: #FFFFFF;\n",
              "      --disabled-bg-color: #3B4455;\n",
              "      --disabled-fill-color: #666;\n",
              "  }\n",
              "\n",
              "  .colab-df-quickchart {\n",
              "    background-color: var(--bg-color);\n",
              "    border: none;\n",
              "    border-radius: 50%;\n",
              "    cursor: pointer;\n",
              "    display: none;\n",
              "    fill: var(--fill-color);\n",
              "    height: 32px;\n",
              "    padding: 0;\n",
              "    width: 32px;\n",
              "  }\n",
              "\n",
              "  .colab-df-quickchart:hover {\n",
              "    background-color: var(--hover-bg-color);\n",
              "    box-shadow: 0 1px 2px rgba(60, 64, 67, 0.3), 0 1px 3px 1px rgba(60, 64, 67, 0.15);\n",
              "    fill: var(--button-hover-fill-color);\n",
              "  }\n",
              "\n",
              "  .colab-df-quickchart-complete:disabled,\n",
              "  .colab-df-quickchart-complete:disabled:hover {\n",
              "    background-color: var(--disabled-bg-color);\n",
              "    fill: var(--disabled-fill-color);\n",
              "    box-shadow: none;\n",
              "  }\n",
              "\n",
              "  .colab-df-spinner {\n",
              "    border: 2px solid var(--fill-color);\n",
              "    border-color: transparent;\n",
              "    border-bottom-color: var(--fill-color);\n",
              "    animation:\n",
              "      spin 1s steps(1) infinite;\n",
              "  }\n",
              "\n",
              "  @keyframes spin {\n",
              "    0% {\n",
              "      border-color: transparent;\n",
              "      border-bottom-color: var(--fill-color);\n",
              "      border-left-color: var(--fill-color);\n",
              "    }\n",
              "    20% {\n",
              "      border-color: transparent;\n",
              "      border-left-color: var(--fill-color);\n",
              "      border-top-color: var(--fill-color);\n",
              "    }\n",
              "    30% {\n",
              "      border-color: transparent;\n",
              "      border-left-color: var(--fill-color);\n",
              "      border-top-color: var(--fill-color);\n",
              "      border-right-color: var(--fill-color);\n",
              "    }\n",
              "    40% {\n",
              "      border-color: transparent;\n",
              "      border-right-color: var(--fill-color);\n",
              "      border-top-color: var(--fill-color);\n",
              "    }\n",
              "    60% {\n",
              "      border-color: transparent;\n",
              "      border-right-color: var(--fill-color);\n",
              "    }\n",
              "    80% {\n",
              "      border-color: transparent;\n",
              "      border-right-color: var(--fill-color);\n",
              "      border-bottom-color: var(--fill-color);\n",
              "    }\n",
              "    90% {\n",
              "      border-color: transparent;\n",
              "      border-bottom-color: var(--fill-color);\n",
              "    }\n",
              "  }\n",
              "</style>\n",
              "\n",
              "  <script>\n",
              "    async function quickchart(key) {\n",
              "      const quickchartButtonEl =\n",
              "        document.querySelector('#' + key + ' button');\n",
              "      quickchartButtonEl.disabled = true;  // To prevent multiple clicks.\n",
              "      quickchartButtonEl.classList.add('colab-df-spinner');\n",
              "      try {\n",
              "        const charts = await google.colab.kernel.invokeFunction(\n",
              "            'suggestCharts', [key], {});\n",
              "      } catch (error) {\n",
              "        console.error('Error during call to suggestCharts:', error);\n",
              "      }\n",
              "      quickchartButtonEl.classList.remove('colab-df-spinner');\n",
              "      quickchartButtonEl.classList.add('colab-df-quickchart-complete');\n",
              "    }\n",
              "    (() => {\n",
              "      let quickchartButtonEl =\n",
              "        document.querySelector('#df-0bd546fc-4a1a-4452-a461-93a6684ac8fb button');\n",
              "      quickchartButtonEl.style.display =\n",
              "        google.colab.kernel.accessAllowed ? 'block' : 'none';\n",
              "    })();\n",
              "  </script>\n",
              "</div>\n",
              "\n",
              "    </div>\n",
              "  </div>\n"
            ],
            "application/vnd.google.colaboratory.intrinsic+json": {
              "type": "dataframe",
              "variable_name": "df",
              "summary": "{\n  \"name\": \"df\",\n  \"rows\": 15,\n  \"fields\": [\n    {\n      \"column\": \"OrderID\",\n      \"properties\": {\n        \"dtype\": \"number\",\n        \"std\": 4,\n        \"min\": 101,\n        \"max\": 115,\n        \"num_unique_values\": 15,\n        \"samples\": [\n          110,\n          112,\n          101\n        ],\n        \"semantic_type\": \"\",\n        \"description\": \"\"\n      }\n    },\n    {\n      \"column\": \"CustomerID\",\n      \"properties\": {\n        \"dtype\": \"number\",\n        \"std\": 1,\n        \"min\": 1001,\n        \"max\": 1005,\n        \"num_unique_values\": 5,\n        \"samples\": [\n          1002,\n          1005,\n          1003\n        ],\n        \"semantic_type\": \"\",\n        \"description\": \"\"\n      }\n    },\n    {\n      \"column\": \"OrderDate\",\n      \"properties\": {\n        \"dtype\": \"object\",\n        \"num_unique_values\": 15,\n        \"samples\": [\n          \"2023-01-10\",\n          \"2023-01-12\",\n          \"2023-01-01\"\n        ],\n        \"semantic_type\": \"\",\n        \"description\": \"\"\n      }\n    },\n    {\n      \"column\": \"ProductID\",\n      \"properties\": {\n        \"dtype\": \"number\",\n        \"std\": 1,\n        \"min\": 2001,\n        \"max\": 2004,\n        \"num_unique_values\": 4,\n        \"samples\": [\n          2002,\n          2004,\n          2001\n        ],\n        \"semantic_type\": \"\",\n        \"description\": \"\"\n      }\n    },\n    {\n      \"column\": \"ProductName\",\n      \"properties\": {\n        \"dtype\": \"category\",\n        \"num_unique_values\": 4,\n        \"samples\": [\n          \"Product B\",\n          \"Product D\",\n          \"Product A\"\n        ],\n        \"semantic_type\": \"\",\n        \"description\": \"\"\n      }\n    },\n    {\n      \"column\": \"Quantity\",\n      \"properties\": {\n        \"dtype\": \"number\",\n        \"std\": 1,\n        \"min\": 1,\n        \"max\": 4,\n        \"num_unique_values\": 4,\n        \"samples\": [\n          2,\n          4,\n          1\n        ],\n        \"semantic_type\": \"\",\n        \"description\": \"\"\n      }\n    },\n    {\n      \"column\": \"UnitPrice\",\n      \"properties\": {\n        \"dtype\": \"number\",\n        \"std\": 2.443650664769531,\n        \"min\": 9.5,\n        \"max\": 15.5,\n        \"num_unique_values\": 4,\n        \"samples\": [\n          15.5,\n          9.5,\n          10.0\n        ],\n        \"semantic_type\": \"\",\n        \"description\": \"\"\n      }\n    },\n    {\n      \"column\": \"TotalPrice\",\n      \"properties\": {\n        \"dtype\": \"number\",\n        \"std\": 12.52806373516598,\n        \"min\": 10.0,\n        \"max\": 46.5,\n        \"num_unique_values\": 10,\n        \"samples\": [\n          15.5,\n          31.0,\n          46.5\n        ],\n        \"semantic_type\": \"\",\n        \"description\": \"\"\n      }\n    }\n  ]\n}"
            }
          },
          "metadata": {},
          "execution_count": 43
        }
      ]
    },
    {
      "cell_type": "code",
      "source": [
        "df.fillna(0, inplace=True)"
      ],
      "metadata": {
        "id": "8kaQwC8sraPl"
      },
      "execution_count": 44,
      "outputs": []
    },
    {
      "cell_type": "code",
      "source": [
        "pivot_table = df.pivot_table(\n",
        "    index=\"CustomerID\",        # Rows\n",
        "    columns=\"ProductName\",    # Columns\n",
        "    values=\"Quantity\",        # Values to aggregate\n",
        "    aggfunc=\"sum\",            # Aggregation function\n",
        "    fill_value=0              # Fill NaN with 0\n",
        ")\n",
        "# Reset the index for better readability\n",
        "pivot_table.reset_index(inplace=True)\n",
        "\n",
        "# Display the pivoted DataFrame\n",
        "print(pivot_table)"
      ],
      "metadata": {
        "colab": {
          "base_uri": "https://localhost:8080/",
          "height": 0
        },
        "id": "axPGKEVkqzuP",
        "outputId": "1d57c057-70c6-4172-a98f-fad8cd55e432"
      },
      "execution_count": 45,
      "outputs": [
        {
          "output_type": "stream",
          "name": "stdout",
          "text": [
            "ProductName  CustomerID  Product A  Product B  Product C  Product D\n",
            "0                  1001          1          3          2          0\n",
            "1                  1002          0          2          1          4\n",
            "2                  1003          2          0          3          4\n",
            "3                  1004          3          3          0          4\n",
            "4                  1005          2          1          1          0\n"
          ]
        }
      ]
    },
    {
      "cell_type": "markdown",
      "source": [
        "5. If Statements"
      ],
      "metadata": {
        "id": "JZS6bH90bBR7"
      }
    },
    {
      "cell_type": "code",
      "source": [
        "age = 20\n",
        "if age < 18:\n",
        "    print(\"Minor\")\n",
        "elif age >= 18 and age < 60:\n",
        "    print(\"Adult\")\n",
        "else:\n",
        "    print(\"Senior Citizen\")"
      ],
      "metadata": {
        "colab": {
          "base_uri": "https://localhost:8080/",
          "height": 0
        },
        "id": "BVAYJysTaY5B",
        "outputId": "ce58c077-0251-4ee9-9d51-a6e7657ac343"
      },
      "execution_count": 46,
      "outputs": [
        {
          "output_type": "stream",
          "name": "stdout",
          "text": [
            "Adult\n"
          ]
        }
      ]
    },
    {
      "cell_type": "markdown",
      "source": [
        "6. Loops"
      ],
      "metadata": {
        "id": "TBuds8G5bK44"
      }
    },
    {
      "cell_type": "code",
      "source": [
        "# For loop\n",
        "for i in range(5):\n",
        "    print(\"For loop iteration:\", i)\n",
        "\n",
        "\n"
      ],
      "metadata": {
        "colab": {
          "base_uri": "https://localhost:8080/",
          "height": 0
        },
        "id": "-WSGDiAHa9Rj",
        "outputId": "76b838d4-2423-4fe0-b1c4-08ac90f4c2d7"
      },
      "execution_count": 47,
      "outputs": [
        {
          "output_type": "stream",
          "name": "stdout",
          "text": [
            "For loop iteration: 0\n",
            "For loop iteration: 1\n",
            "For loop iteration: 2\n",
            "For loop iteration: 3\n",
            "For loop iteration: 4\n"
          ]
        }
      ]
    },
    {
      "cell_type": "code",
      "source": [
        "# While loop\n",
        "count = 0\n",
        "while count < 3:\n",
        "    print(\"Count:\", count)\n",
        "    count += 1\n",
        "\n"
      ],
      "metadata": {
        "id": "xlr9ewnhU1uW",
        "colab": {
          "base_uri": "https://localhost:8080/",
          "height": 0
        },
        "outputId": "122ccbf5-0f4f-4b60-96bf-01b6e00f8e60"
      },
      "execution_count": 48,
      "outputs": [
        {
          "output_type": "stream",
          "name": "stdout",
          "text": [
            "Count: 0\n",
            "Count: 1\n",
            "Count: 2\n"
          ]
        }
      ]
    },
    {
      "cell_type": "code",
      "source": [
        "# Nested loop\n",
        "for i in range(2):\n",
        "    for j in range(2):\n",
        "        print(f\"i={i}, j={j}\")"
      ],
      "metadata": {
        "id": "-cdm4vlYU5R_",
        "colab": {
          "base_uri": "https://localhost:8080/",
          "height": 0
        },
        "outputId": "61647913-1eae-4fde-e6da-9b6a0429e0c7"
      },
      "execution_count": 49,
      "outputs": [
        {
          "output_type": "stream",
          "name": "stdout",
          "text": [
            "i=0, j=0\n",
            "i=0, j=1\n",
            "i=1, j=0\n",
            "i=1, j=1\n"
          ]
        }
      ]
    },
    {
      "cell_type": "markdown",
      "source": [
        "7. Lists, Tuples, Sets, Dictionaries\n"
      ],
      "metadata": {
        "id": "Wq389xjnU_S4"
      }
    },
    {
      "cell_type": "code",
      "source": [
        "# Lists\n",
        "lst = [1, 2, 3]\n",
        "lst.append(4)\n",
        "print(\"List:\", lst)\n",
        "\n",
        "# Tuples\n",
        "tpl = (1, 2, 3)\n",
        "print(\"Tuple:\", tpl)\n",
        "\n",
        "# Sets\n",
        "st = {1, 2, 3}\n",
        "st.add(4)\n",
        "print(\"Set:\", st)\n",
        "\n",
        "# Dictionaries\n",
        "dct = {\"key1\": \"value1\"}\n",
        "dct[\"key2\"] = \"value2\"\n",
        "print(\"Dictionary:\", dct)\n",
        "\n"
      ],
      "metadata": {
        "colab": {
          "base_uri": "https://localhost:8080/",
          "height": 0
        },
        "id": "18h58jfrU67N",
        "outputId": "16ce2ebf-29b9-476f-d089-f6d9d0c80f56"
      },
      "execution_count": 50,
      "outputs": [
        {
          "output_type": "stream",
          "name": "stdout",
          "text": [
            "List: [1, 2, 3, 4]\n",
            "Tuple: (1, 2, 3)\n",
            "Set: {1, 2, 3, 4}\n",
            "Dictionary: {'key1': 'value1', 'key2': 'value2'}\n"
          ]
        }
      ]
    },
    {
      "cell_type": "markdown",
      "source": [
        "8. Operators"
      ],
      "metadata": {
        "id": "f_9M1GDRVf0s"
      }
    },
    {
      "cell_type": "code",
      "source": [
        "a, b = 10, 20\n",
        "\n",
        "# Arithmetic\n",
        "print(\"Addition:\", a + b)\n",
        "\n",
        "# Comparison\n",
        "print(\"Equal:\", a == b)\n",
        "\n",
        "# Logical\n",
        "print(\"Logical AND:\", a > 5 and b > 15)\n",
        "\n",
        "# Assignment\n",
        "a += 5\n",
        "print(\"Updated a:\", a)\n"
      ],
      "metadata": {
        "colab": {
          "base_uri": "https://localhost:8080/",
          "height": 0
        },
        "id": "0Orz6xrGVIqh",
        "outputId": "4dec37be-30de-4c93-94f8-a9272a524d06"
      },
      "execution_count": 51,
      "outputs": [
        {
          "output_type": "stream",
          "name": "stdout",
          "text": [
            "Addition: 30\n",
            "Equal: False\n",
            "Logical AND: True\n",
            "Updated a: 15\n"
          ]
        }
      ]
    },
    {
      "cell_type": "markdown",
      "source": [
        " 9. Reading CSV Files"
      ],
      "metadata": {
        "id": "ze9pqEfcVs9q"
      }
    },
    {
      "cell_type": "code",
      "source": [
        "from google.colab import files\n",
        "import pandas as pd\n",
        "\n",
        "file_path = '/sample_order_data.csv'  # Update with your file name\n",
        "df=pd.read_csv(file_path)\n",
        "df.head(5)"
      ],
      "metadata": {
        "colab": {
          "base_uri": "https://localhost:8080/",
          "height": 206
        },
        "id": "P-n7sMHUVzBt",
        "outputId": "52de0ee1-a408-47dd-ba50-8d0b3e947a7b"
      },
      "execution_count": 52,
      "outputs": [
        {
          "output_type": "execute_result",
          "data": {
            "text/plain": [
              "   OrderID  CustomerID   OrderDate  ProductID ProductName  Quantity  \\\n",
              "0      101        1001  2023-01-01       2001   Product A         1   \n",
              "1      102        1002  2023-01-02       2002   Product B         2   \n",
              "2      103        1003  2023-01-03       2003   Product C         3   \n",
              "3      104        1004  2023-01-04       2004   Product D         4   \n",
              "4      105        1005  2023-01-05       2001   Product A         2   \n",
              "\n",
              "   UnitPrice  TotalPrice  \n",
              "0       10.0        10.0  \n",
              "1       15.5        31.0  \n",
              "2       12.0        36.0  \n",
              "3        9.5        38.0  \n",
              "4       10.0        20.0  "
            ],
            "text/html": [
              "\n",
              "  <div id=\"df-f53eded4-4065-4b16-a5a5-d1be1ddfb63f\" class=\"colab-df-container\">\n",
              "    <div>\n",
              "<style scoped>\n",
              "    .dataframe tbody tr th:only-of-type {\n",
              "        vertical-align: middle;\n",
              "    }\n",
              "\n",
              "    .dataframe tbody tr th {\n",
              "        vertical-align: top;\n",
              "    }\n",
              "\n",
              "    .dataframe thead th {\n",
              "        text-align: right;\n",
              "    }\n",
              "</style>\n",
              "<table border=\"1\" class=\"dataframe\">\n",
              "  <thead>\n",
              "    <tr style=\"text-align: right;\">\n",
              "      <th></th>\n",
              "      <th>OrderID</th>\n",
              "      <th>CustomerID</th>\n",
              "      <th>OrderDate</th>\n",
              "      <th>ProductID</th>\n",
              "      <th>ProductName</th>\n",
              "      <th>Quantity</th>\n",
              "      <th>UnitPrice</th>\n",
              "      <th>TotalPrice</th>\n",
              "    </tr>\n",
              "  </thead>\n",
              "  <tbody>\n",
              "    <tr>\n",
              "      <th>0</th>\n",
              "      <td>101</td>\n",
              "      <td>1001</td>\n",
              "      <td>2023-01-01</td>\n",
              "      <td>2001</td>\n",
              "      <td>Product A</td>\n",
              "      <td>1</td>\n",
              "      <td>10.0</td>\n",
              "      <td>10.0</td>\n",
              "    </tr>\n",
              "    <tr>\n",
              "      <th>1</th>\n",
              "      <td>102</td>\n",
              "      <td>1002</td>\n",
              "      <td>2023-01-02</td>\n",
              "      <td>2002</td>\n",
              "      <td>Product B</td>\n",
              "      <td>2</td>\n",
              "      <td>15.5</td>\n",
              "      <td>31.0</td>\n",
              "    </tr>\n",
              "    <tr>\n",
              "      <th>2</th>\n",
              "      <td>103</td>\n",
              "      <td>1003</td>\n",
              "      <td>2023-01-03</td>\n",
              "      <td>2003</td>\n",
              "      <td>Product C</td>\n",
              "      <td>3</td>\n",
              "      <td>12.0</td>\n",
              "      <td>36.0</td>\n",
              "    </tr>\n",
              "    <tr>\n",
              "      <th>3</th>\n",
              "      <td>104</td>\n",
              "      <td>1004</td>\n",
              "      <td>2023-01-04</td>\n",
              "      <td>2004</td>\n",
              "      <td>Product D</td>\n",
              "      <td>4</td>\n",
              "      <td>9.5</td>\n",
              "      <td>38.0</td>\n",
              "    </tr>\n",
              "    <tr>\n",
              "      <th>4</th>\n",
              "      <td>105</td>\n",
              "      <td>1005</td>\n",
              "      <td>2023-01-05</td>\n",
              "      <td>2001</td>\n",
              "      <td>Product A</td>\n",
              "      <td>2</td>\n",
              "      <td>10.0</td>\n",
              "      <td>20.0</td>\n",
              "    </tr>\n",
              "  </tbody>\n",
              "</table>\n",
              "</div>\n",
              "    <div class=\"colab-df-buttons\">\n",
              "\n",
              "  <div class=\"colab-df-container\">\n",
              "    <button class=\"colab-df-convert\" onclick=\"convertToInteractive('df-f53eded4-4065-4b16-a5a5-d1be1ddfb63f')\"\n",
              "            title=\"Convert this dataframe to an interactive table.\"\n",
              "            style=\"display:none;\">\n",
              "\n",
              "  <svg xmlns=\"http://www.w3.org/2000/svg\" height=\"24px\" viewBox=\"0 -960 960 960\">\n",
              "    <path d=\"M120-120v-720h720v720H120Zm60-500h600v-160H180v160Zm220 220h160v-160H400v160Zm0 220h160v-160H400v160ZM180-400h160v-160H180v160Zm440 0h160v-160H620v160ZM180-180h160v-160H180v160Zm440 0h160v-160H620v160Z\"/>\n",
              "  </svg>\n",
              "    </button>\n",
              "\n",
              "  <style>\n",
              "    .colab-df-container {\n",
              "      display:flex;\n",
              "      gap: 12px;\n",
              "    }\n",
              "\n",
              "    .colab-df-convert {\n",
              "      background-color: #E8F0FE;\n",
              "      border: none;\n",
              "      border-radius: 50%;\n",
              "      cursor: pointer;\n",
              "      display: none;\n",
              "      fill: #1967D2;\n",
              "      height: 32px;\n",
              "      padding: 0 0 0 0;\n",
              "      width: 32px;\n",
              "    }\n",
              "\n",
              "    .colab-df-convert:hover {\n",
              "      background-color: #E2EBFA;\n",
              "      box-shadow: 0px 1px 2px rgba(60, 64, 67, 0.3), 0px 1px 3px 1px rgba(60, 64, 67, 0.15);\n",
              "      fill: #174EA6;\n",
              "    }\n",
              "\n",
              "    .colab-df-buttons div {\n",
              "      margin-bottom: 4px;\n",
              "    }\n",
              "\n",
              "    [theme=dark] .colab-df-convert {\n",
              "      background-color: #3B4455;\n",
              "      fill: #D2E3FC;\n",
              "    }\n",
              "\n",
              "    [theme=dark] .colab-df-convert:hover {\n",
              "      background-color: #434B5C;\n",
              "      box-shadow: 0px 1px 3px 1px rgba(0, 0, 0, 0.15);\n",
              "      filter: drop-shadow(0px 1px 2px rgba(0, 0, 0, 0.3));\n",
              "      fill: #FFFFFF;\n",
              "    }\n",
              "  </style>\n",
              "\n",
              "    <script>\n",
              "      const buttonEl =\n",
              "        document.querySelector('#df-f53eded4-4065-4b16-a5a5-d1be1ddfb63f button.colab-df-convert');\n",
              "      buttonEl.style.display =\n",
              "        google.colab.kernel.accessAllowed ? 'block' : 'none';\n",
              "\n",
              "      async function convertToInteractive(key) {\n",
              "        const element = document.querySelector('#df-f53eded4-4065-4b16-a5a5-d1be1ddfb63f');\n",
              "        const dataTable =\n",
              "          await google.colab.kernel.invokeFunction('convertToInteractive',\n",
              "                                                    [key], {});\n",
              "        if (!dataTable) return;\n",
              "\n",
              "        const docLinkHtml = 'Like what you see? Visit the ' +\n",
              "          '<a target=\"_blank\" href=https://colab.research.google.com/notebooks/data_table.ipynb>data table notebook</a>'\n",
              "          + ' to learn more about interactive tables.';\n",
              "        element.innerHTML = '';\n",
              "        dataTable['output_type'] = 'display_data';\n",
              "        await google.colab.output.renderOutput(dataTable, element);\n",
              "        const docLink = document.createElement('div');\n",
              "        docLink.innerHTML = docLinkHtml;\n",
              "        element.appendChild(docLink);\n",
              "      }\n",
              "    </script>\n",
              "  </div>\n",
              "\n",
              "\n",
              "<div id=\"df-6b9cc371-e36f-4ca3-8af3-4d51d1f453d3\">\n",
              "  <button class=\"colab-df-quickchart\" onclick=\"quickchart('df-6b9cc371-e36f-4ca3-8af3-4d51d1f453d3')\"\n",
              "            title=\"Suggest charts\"\n",
              "            style=\"display:none;\">\n",
              "\n",
              "<svg xmlns=\"http://www.w3.org/2000/svg\" height=\"24px\"viewBox=\"0 0 24 24\"\n",
              "     width=\"24px\">\n",
              "    <g>\n",
              "        <path d=\"M19 3H5c-1.1 0-2 .9-2 2v14c0 1.1.9 2 2 2h14c1.1 0 2-.9 2-2V5c0-1.1-.9-2-2-2zM9 17H7v-7h2v7zm4 0h-2V7h2v10zm4 0h-2v-4h2v4z\"/>\n",
              "    </g>\n",
              "</svg>\n",
              "  </button>\n",
              "\n",
              "<style>\n",
              "  .colab-df-quickchart {\n",
              "      --bg-color: #E8F0FE;\n",
              "      --fill-color: #1967D2;\n",
              "      --hover-bg-color: #E2EBFA;\n",
              "      --hover-fill-color: #174EA6;\n",
              "      --disabled-fill-color: #AAA;\n",
              "      --disabled-bg-color: #DDD;\n",
              "  }\n",
              "\n",
              "  [theme=dark] .colab-df-quickchart {\n",
              "      --bg-color: #3B4455;\n",
              "      --fill-color: #D2E3FC;\n",
              "      --hover-bg-color: #434B5C;\n",
              "      --hover-fill-color: #FFFFFF;\n",
              "      --disabled-bg-color: #3B4455;\n",
              "      --disabled-fill-color: #666;\n",
              "  }\n",
              "\n",
              "  .colab-df-quickchart {\n",
              "    background-color: var(--bg-color);\n",
              "    border: none;\n",
              "    border-radius: 50%;\n",
              "    cursor: pointer;\n",
              "    display: none;\n",
              "    fill: var(--fill-color);\n",
              "    height: 32px;\n",
              "    padding: 0;\n",
              "    width: 32px;\n",
              "  }\n",
              "\n",
              "  .colab-df-quickchart:hover {\n",
              "    background-color: var(--hover-bg-color);\n",
              "    box-shadow: 0 1px 2px rgba(60, 64, 67, 0.3), 0 1px 3px 1px rgba(60, 64, 67, 0.15);\n",
              "    fill: var(--button-hover-fill-color);\n",
              "  }\n",
              "\n",
              "  .colab-df-quickchart-complete:disabled,\n",
              "  .colab-df-quickchart-complete:disabled:hover {\n",
              "    background-color: var(--disabled-bg-color);\n",
              "    fill: var(--disabled-fill-color);\n",
              "    box-shadow: none;\n",
              "  }\n",
              "\n",
              "  .colab-df-spinner {\n",
              "    border: 2px solid var(--fill-color);\n",
              "    border-color: transparent;\n",
              "    border-bottom-color: var(--fill-color);\n",
              "    animation:\n",
              "      spin 1s steps(1) infinite;\n",
              "  }\n",
              "\n",
              "  @keyframes spin {\n",
              "    0% {\n",
              "      border-color: transparent;\n",
              "      border-bottom-color: var(--fill-color);\n",
              "      border-left-color: var(--fill-color);\n",
              "    }\n",
              "    20% {\n",
              "      border-color: transparent;\n",
              "      border-left-color: var(--fill-color);\n",
              "      border-top-color: var(--fill-color);\n",
              "    }\n",
              "    30% {\n",
              "      border-color: transparent;\n",
              "      border-left-color: var(--fill-color);\n",
              "      border-top-color: var(--fill-color);\n",
              "      border-right-color: var(--fill-color);\n",
              "    }\n",
              "    40% {\n",
              "      border-color: transparent;\n",
              "      border-right-color: var(--fill-color);\n",
              "      border-top-color: var(--fill-color);\n",
              "    }\n",
              "    60% {\n",
              "      border-color: transparent;\n",
              "      border-right-color: var(--fill-color);\n",
              "    }\n",
              "    80% {\n",
              "      border-color: transparent;\n",
              "      border-right-color: var(--fill-color);\n",
              "      border-bottom-color: var(--fill-color);\n",
              "    }\n",
              "    90% {\n",
              "      border-color: transparent;\n",
              "      border-bottom-color: var(--fill-color);\n",
              "    }\n",
              "  }\n",
              "</style>\n",
              "\n",
              "  <script>\n",
              "    async function quickchart(key) {\n",
              "      const quickchartButtonEl =\n",
              "        document.querySelector('#' + key + ' button');\n",
              "      quickchartButtonEl.disabled = true;  // To prevent multiple clicks.\n",
              "      quickchartButtonEl.classList.add('colab-df-spinner');\n",
              "      try {\n",
              "        const charts = await google.colab.kernel.invokeFunction(\n",
              "            'suggestCharts', [key], {});\n",
              "      } catch (error) {\n",
              "        console.error('Error during call to suggestCharts:', error);\n",
              "      }\n",
              "      quickchartButtonEl.classList.remove('colab-df-spinner');\n",
              "      quickchartButtonEl.classList.add('colab-df-quickchart-complete');\n",
              "    }\n",
              "    (() => {\n",
              "      let quickchartButtonEl =\n",
              "        document.querySelector('#df-6b9cc371-e36f-4ca3-8af3-4d51d1f453d3 button');\n",
              "      quickchartButtonEl.style.display =\n",
              "        google.colab.kernel.accessAllowed ? 'block' : 'none';\n",
              "    })();\n",
              "  </script>\n",
              "</div>\n",
              "\n",
              "    </div>\n",
              "  </div>\n"
            ],
            "application/vnd.google.colaboratory.intrinsic+json": {
              "type": "dataframe",
              "variable_name": "df",
              "summary": "{\n  \"name\": \"df\",\n  \"rows\": 15,\n  \"fields\": [\n    {\n      \"column\": \"OrderID\",\n      \"properties\": {\n        \"dtype\": \"number\",\n        \"std\": 4,\n        \"min\": 101,\n        \"max\": 115,\n        \"num_unique_values\": 15,\n        \"samples\": [\n          110,\n          112,\n          101\n        ],\n        \"semantic_type\": \"\",\n        \"description\": \"\"\n      }\n    },\n    {\n      \"column\": \"CustomerID\",\n      \"properties\": {\n        \"dtype\": \"number\",\n        \"std\": 1,\n        \"min\": 1001,\n        \"max\": 1005,\n        \"num_unique_values\": 5,\n        \"samples\": [\n          1002,\n          1005,\n          1003\n        ],\n        \"semantic_type\": \"\",\n        \"description\": \"\"\n      }\n    },\n    {\n      \"column\": \"OrderDate\",\n      \"properties\": {\n        \"dtype\": \"object\",\n        \"num_unique_values\": 15,\n        \"samples\": [\n          \"2023-01-10\",\n          \"2023-01-12\",\n          \"2023-01-01\"\n        ],\n        \"semantic_type\": \"\",\n        \"description\": \"\"\n      }\n    },\n    {\n      \"column\": \"ProductID\",\n      \"properties\": {\n        \"dtype\": \"number\",\n        \"std\": 1,\n        \"min\": 2001,\n        \"max\": 2004,\n        \"num_unique_values\": 4,\n        \"samples\": [\n          2002,\n          2004,\n          2001\n        ],\n        \"semantic_type\": \"\",\n        \"description\": \"\"\n      }\n    },\n    {\n      \"column\": \"ProductName\",\n      \"properties\": {\n        \"dtype\": \"category\",\n        \"num_unique_values\": 4,\n        \"samples\": [\n          \"Product B\",\n          \"Product D\",\n          \"Product A\"\n        ],\n        \"semantic_type\": \"\",\n        \"description\": \"\"\n      }\n    },\n    {\n      \"column\": \"Quantity\",\n      \"properties\": {\n        \"dtype\": \"number\",\n        \"std\": 1,\n        \"min\": 1,\n        \"max\": 4,\n        \"num_unique_values\": 4,\n        \"samples\": [\n          2,\n          4,\n          1\n        ],\n        \"semantic_type\": \"\",\n        \"description\": \"\"\n      }\n    },\n    {\n      \"column\": \"UnitPrice\",\n      \"properties\": {\n        \"dtype\": \"number\",\n        \"std\": 2.443650664769531,\n        \"min\": 9.5,\n        \"max\": 15.5,\n        \"num_unique_values\": 4,\n        \"samples\": [\n          15.5,\n          9.5,\n          10.0\n        ],\n        \"semantic_type\": \"\",\n        \"description\": \"\"\n      }\n    },\n    {\n      \"column\": \"TotalPrice\",\n      \"properties\": {\n        \"dtype\": \"number\",\n        \"std\": 12.52806373516598,\n        \"min\": 10.0,\n        \"max\": 46.5,\n        \"num_unique_values\": 10,\n        \"samples\": [\n          15.5,\n          31.0,\n          46.5\n        ],\n        \"semantic_type\": \"\",\n        \"description\": \"\"\n      }\n    }\n  ]\n}"
            }
          },
          "metadata": {},
          "execution_count": 52
        }
      ]
    },
    {
      "cell_type": "markdown",
      "source": [
        "10. Python String Methods"
      ],
      "metadata": {
        "id": "nz3fFH6UZBbn"
      }
    },
    {
      "cell_type": "code",
      "source": [
        "text = \"  Hello, World!  \"\n",
        "\n",
        "# Remove whitespace\n",
        "print(text.strip())\n",
        "\n",
        "# Uppercase\n",
        "print(text.upper())\n",
        "\n",
        "# Slicing\n",
        "print(text[:5])\n",
        "\n",
        "# Find\n",
        "print(text.find(\"World\"))\n"
      ],
      "metadata": {
        "colab": {
          "base_uri": "https://localhost:8080/",
          "height": 0
        },
        "id": "76-0YTRUVqSV",
        "outputId": "c767ab41-59ff-483c-cfbb-826e1ab50148"
      },
      "execution_count": 53,
      "outputs": [
        {
          "output_type": "stream",
          "name": "stdout",
          "text": [
            "Hello, World!\n",
            "  HELLO, WORLD!  \n",
            "  Hel\n",
            "9\n"
          ]
        }
      ]
    }
  ]
}