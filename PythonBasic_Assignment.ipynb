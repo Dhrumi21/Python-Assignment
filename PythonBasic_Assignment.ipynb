{
  "nbformat": 4,
  "nbformat_minor": 0,
  "metadata": {
    "colab": {
      "provenance": []
    },
    "kernelspec": {
      "name": "python3",
      "display_name": "Python 3"
    },
    "language_info": {
      "name": "python"
    }
  },
  "cells": [
    {
      "cell_type": "code",
      "execution_count": 76,
      "metadata": {
        "id": "waa8gF2ySyiP",
        "colab": {
          "base_uri": "https://localhost:8080/"
        },
        "outputId": "802a67e7-1f11-4d4b-c547-f0bb47e08094"
      },
      "outputs": [
        {
          "output_type": "stream",
          "name": "stdout",
          "text": [
            "Help on package sklearn:\n",
            "\n",
            "NAME\n",
            "    sklearn - Configure global settings and get information about the working environment.\n",
            "\n",
            "PACKAGE CONTENTS\n",
            "    __check_build (package)\n",
            "    _build_utils (package)\n",
            "    _built_with_meson\n",
            "    _config\n",
            "    _distributor_init\n",
            "    _isotonic\n",
            "    _loss (package)\n",
            "    _min_dependencies\n",
            "    base\n",
            "    calibration\n",
            "    cluster (package)\n",
            "    compose (package)\n",
            "    conftest\n",
            "    covariance (package)\n",
            "    cross_decomposition (package)\n",
            "    datasets (package)\n",
            "    decomposition (package)\n",
            "    discriminant_analysis\n",
            "    dummy\n",
            "    ensemble (package)\n",
            "    exceptions\n",
            "    experimental (package)\n",
            "    externals (package)\n",
            "    feature_extraction (package)\n",
            "    feature_selection (package)\n",
            "    gaussian_process (package)\n",
            "    impute (package)\n",
            "    inspection (package)\n",
            "    isotonic\n",
            "    kernel_approximation\n",
            "    kernel_ridge\n",
            "    linear_model (package)\n",
            "    manifold (package)\n",
            "    metrics (package)\n",
            "    mixture (package)\n",
            "    model_selection (package)\n",
            "    multiclass\n",
            "    multioutput\n",
            "    naive_bayes\n",
            "    neighbors (package)\n",
            "    neural_network (package)\n",
            "    pipeline\n",
            "    preprocessing (package)\n",
            "    random_projection\n",
            "    semi_supervised (package)\n",
            "    svm (package)\n",
            "    tests (package)\n",
            "    tree (package)\n",
            "    utils (package)\n",
            "\n",
            "FUNCTIONS\n",
            "    clone(estimator, *, safe=True)\n",
            "        Construct a new unfitted estimator with the same parameters.\n",
            "        \n",
            "        Clone does a deep copy of the model in an estimator\n",
            "        without actually copying attached data. It returns a new estimator\n",
            "        with the same parameters that has not been fitted on any data.\n",
            "        \n",
            "        .. versionchanged:: 1.3\n",
            "            Delegates to `estimator.__sklearn_clone__` if the method exists.\n",
            "        \n",
            "        Parameters\n",
            "        ----------\n",
            "        estimator : {list, tuple, set} of estimator instance or a single             estimator instance\n",
            "            The estimator or group of estimators to be cloned.\n",
            "        safe : bool, default=True\n",
            "            If safe is False, clone will fall back to a deep copy on objects\n",
            "            that are not estimators. Ignored if `estimator.__sklearn_clone__`\n",
            "            exists.\n",
            "        \n",
            "        Returns\n",
            "        -------\n",
            "        estimator : object\n",
            "            The deep copy of the input, an estimator if input is an estimator.\n",
            "        \n",
            "        Notes\n",
            "        -----\n",
            "        If the estimator's `random_state` parameter is an integer (or if the\n",
            "        estimator doesn't have a `random_state` parameter), an *exact clone* is\n",
            "        returned: the clone and the original estimator will give the exact same\n",
            "        results. Otherwise, *statistical clone* is returned: the clone might\n",
            "        return different results from the original estimator. More details can be\n",
            "        found in :ref:`randomness`.\n",
            "        \n",
            "        Examples\n",
            "        --------\n",
            "        >>> from sklearn.base import clone\n",
            "        >>> from sklearn.linear_model import LogisticRegression\n",
            "        >>> X = [[-1, 0], [0, 1], [0, -1], [1, 0]]\n",
            "        >>> y = [0, 0, 1, 1]\n",
            "        >>> classifier = LogisticRegression().fit(X, y)\n",
            "        >>> cloned_classifier = clone(classifier)\n",
            "        >>> hasattr(classifier, \"classes_\")\n",
            "        True\n",
            "        >>> hasattr(cloned_classifier, \"classes_\")\n",
            "        False\n",
            "        >>> classifier is cloned_classifier\n",
            "        False\n",
            "    \n",
            "    config_context(*, assume_finite=None, working_memory=None, print_changed_only=None, display=None, pairwise_dist_chunk_size=None, enable_cython_pairwise_dist=None, array_api_dispatch=None, transform_output=None, enable_metadata_routing=None, skip_parameter_validation=None)\n",
            "        Context manager for global scikit-learn configuration.\n",
            "        \n",
            "        Parameters\n",
            "        ----------\n",
            "        assume_finite : bool, default=None\n",
            "            If True, validation for finiteness will be skipped,\n",
            "            saving time, but leading to potential crashes. If\n",
            "            False, validation for finiteness will be performed,\n",
            "            avoiding error. If None, the existing value won't change.\n",
            "            The default value is False.\n",
            "        \n",
            "        working_memory : int, default=None\n",
            "            If set, scikit-learn will attempt to limit the size of temporary arrays\n",
            "            to this number of MiB (per job when parallelised), often saving both\n",
            "            computation time and memory on expensive operations that can be\n",
            "            performed in chunks. If None, the existing value won't change.\n",
            "            The default value is 1024.\n",
            "        \n",
            "        print_changed_only : bool, default=None\n",
            "            If True, only the parameters that were set to non-default\n",
            "            values will be printed when printing an estimator. For example,\n",
            "            ``print(SVC())`` while True will only print 'SVC()', but would print\n",
            "            'SVC(C=1.0, cache_size=200, ...)' with all the non-changed parameters\n",
            "            when False. If None, the existing value won't change.\n",
            "            The default value is True.\n",
            "        \n",
            "            .. versionchanged:: 0.23\n",
            "               Default changed from False to True.\n",
            "        \n",
            "        display : {'text', 'diagram'}, default=None\n",
            "            If 'diagram', estimators will be displayed as a diagram in a Jupyter\n",
            "            lab or notebook context. If 'text', estimators will be displayed as\n",
            "            text. If None, the existing value won't change.\n",
            "            The default value is 'diagram'.\n",
            "        \n",
            "            .. versionadded:: 0.23\n",
            "        \n",
            "        pairwise_dist_chunk_size : int, default=None\n",
            "            The number of row vectors per chunk for the accelerated pairwise-\n",
            "            distances reduction backend. Default is 256 (suitable for most of\n",
            "            modern laptops' caches and architectures).\n",
            "        \n",
            "            Intended for easier benchmarking and testing of scikit-learn internals.\n",
            "            End users are not expected to benefit from customizing this configuration\n",
            "            setting.\n",
            "        \n",
            "            .. versionadded:: 1.1\n",
            "        \n",
            "        enable_cython_pairwise_dist : bool, default=None\n",
            "            Use the accelerated pairwise-distances reduction backend when\n",
            "            possible. Global default: True.\n",
            "        \n",
            "            Intended for easier benchmarking and testing of scikit-learn internals.\n",
            "            End users are not expected to benefit from customizing this configuration\n",
            "            setting.\n",
            "        \n",
            "            .. versionadded:: 1.1\n",
            "        \n",
            "        array_api_dispatch : bool, default=None\n",
            "            Use Array API dispatching when inputs follow the Array API standard.\n",
            "            Default is False.\n",
            "        \n",
            "            See the :ref:`User Guide <array_api>` for more details.\n",
            "        \n",
            "            .. versionadded:: 1.2\n",
            "        \n",
            "        transform_output : str, default=None\n",
            "            Configure output of `transform` and `fit_transform`.\n",
            "        \n",
            "            See :ref:`sphx_glr_auto_examples_miscellaneous_plot_set_output.py`\n",
            "            for an example on how to use the API.\n",
            "        \n",
            "            - `\"default\"`: Default output format of a transformer\n",
            "            - `\"pandas\"`: DataFrame output\n",
            "            - `\"polars\"`: Polars output\n",
            "            - `None`: Transform configuration is unchanged\n",
            "        \n",
            "            .. versionadded:: 1.2\n",
            "            .. versionadded:: 1.4\n",
            "                `\"polars\"` option was added.\n",
            "        \n",
            "        enable_metadata_routing : bool, default=None\n",
            "            Enable metadata routing. By default this feature is disabled.\n",
            "        \n",
            "            Refer to :ref:`metadata routing user guide <metadata_routing>` for more\n",
            "            details.\n",
            "        \n",
            "            - `True`: Metadata routing is enabled\n",
            "            - `False`: Metadata routing is disabled, use the old syntax.\n",
            "            - `None`: Configuration is unchanged\n",
            "        \n",
            "            .. versionadded:: 1.3\n",
            "        \n",
            "        skip_parameter_validation : bool, default=None\n",
            "            If `True`, disable the validation of the hyper-parameters' types and values in\n",
            "            the fit method of estimators and for arguments passed to public helper\n",
            "            functions. It can save time in some situations but can lead to low level\n",
            "            crashes and exceptions with confusing error messages.\n",
            "        \n",
            "            Note that for data parameters, such as `X` and `y`, only type validation is\n",
            "            skipped but validation with `check_array` will continue to run.\n",
            "        \n",
            "            .. versionadded:: 1.3\n",
            "        \n",
            "        Yields\n",
            "        ------\n",
            "        None.\n",
            "        \n",
            "        See Also\n",
            "        --------\n",
            "        set_config : Set global scikit-learn configuration.\n",
            "        get_config : Retrieve current values of the global configuration.\n",
            "        \n",
            "        Notes\n",
            "        -----\n",
            "        All settings, not just those presently modified, will be returned to\n",
            "        their previous values when the context manager is exited.\n",
            "        \n",
            "        Examples\n",
            "        --------\n",
            "        >>> import sklearn\n",
            "        >>> from sklearn.utils.validation import assert_all_finite\n",
            "        >>> with sklearn.config_context(assume_finite=True):\n",
            "        ...     assert_all_finite([float('nan')])\n",
            "        >>> with sklearn.config_context(assume_finite=True):\n",
            "        ...     with sklearn.config_context(assume_finite=False):\n",
            "        ...         assert_all_finite([float('nan')])\n",
            "        Traceback (most recent call last):\n",
            "        ...\n",
            "        ValueError: Input contains NaN...\n",
            "    \n",
            "    get_config()\n",
            "        Retrieve current values for configuration set by :func:`set_config`.\n",
            "        \n",
            "        Returns\n",
            "        -------\n",
            "        config : dict\n",
            "            Keys are parameter names that can be passed to :func:`set_config`.\n",
            "        \n",
            "        See Also\n",
            "        --------\n",
            "        config_context : Context manager for global scikit-learn configuration.\n",
            "        set_config : Set global scikit-learn configuration.\n",
            "        \n",
            "        Examples\n",
            "        --------\n",
            "        >>> import sklearn\n",
            "        >>> config = sklearn.get_config()\n",
            "        >>> config.keys()\n",
            "        dict_keys([...])\n",
            "    \n",
            "    set_config(assume_finite=None, working_memory=None, print_changed_only=None, display=None, pairwise_dist_chunk_size=None, enable_cython_pairwise_dist=None, array_api_dispatch=None, transform_output=None, enable_metadata_routing=None, skip_parameter_validation=None)\n",
            "        Set global scikit-learn configuration.\n",
            "        \n",
            "        .. versionadded:: 0.19\n",
            "        \n",
            "        Parameters\n",
            "        ----------\n",
            "        assume_finite : bool, default=None\n",
            "            If True, validation for finiteness will be skipped,\n",
            "            saving time, but leading to potential crashes. If\n",
            "            False, validation for finiteness will be performed,\n",
            "            avoiding error.  Global default: False.\n",
            "        \n",
            "            .. versionadded:: 0.19\n",
            "        \n",
            "        working_memory : int, default=None\n",
            "            If set, scikit-learn will attempt to limit the size of temporary arrays\n",
            "            to this number of MiB (per job when parallelised), often saving both\n",
            "            computation time and memory on expensive operations that can be\n",
            "            performed in chunks. Global default: 1024.\n",
            "        \n",
            "            .. versionadded:: 0.20\n",
            "        \n",
            "        print_changed_only : bool, default=None\n",
            "            If True, only the parameters that were set to non-default\n",
            "            values will be printed when printing an estimator. For example,\n",
            "            ``print(SVC())`` while True will only print 'SVC()' while the default\n",
            "            behaviour would be to print 'SVC(C=1.0, cache_size=200, ...)' with\n",
            "            all the non-changed parameters.\n",
            "        \n",
            "            .. versionadded:: 0.21\n",
            "        \n",
            "        display : {'text', 'diagram'}, default=None\n",
            "            If 'diagram', estimators will be displayed as a diagram in a Jupyter\n",
            "            lab or notebook context. If 'text', estimators will be displayed as\n",
            "            text. Default is 'diagram'.\n",
            "        \n",
            "            .. versionadded:: 0.23\n",
            "        \n",
            "        pairwise_dist_chunk_size : int, default=None\n",
            "            The number of row vectors per chunk for the accelerated pairwise-\n",
            "            distances reduction backend. Default is 256 (suitable for most of\n",
            "            modern laptops' caches and architectures).\n",
            "        \n",
            "            Intended for easier benchmarking and testing of scikit-learn internals.\n",
            "            End users are not expected to benefit from customizing this configuration\n",
            "            setting.\n",
            "        \n",
            "            .. versionadded:: 1.1\n",
            "        \n",
            "        enable_cython_pairwise_dist : bool, default=None\n",
            "            Use the accelerated pairwise-distances reduction backend when\n",
            "            possible. Global default: True.\n",
            "        \n",
            "            Intended for easier benchmarking and testing of scikit-learn internals.\n",
            "            End users are not expected to benefit from customizing this configuration\n",
            "            setting.\n",
            "        \n",
            "            .. versionadded:: 1.1\n",
            "        \n",
            "        array_api_dispatch : bool, default=None\n",
            "            Use Array API dispatching when inputs follow the Array API standard.\n",
            "            Default is False.\n",
            "        \n",
            "            See the :ref:`User Guide <array_api>` for more details.\n",
            "        \n",
            "            .. versionadded:: 1.2\n",
            "        \n",
            "        transform_output : str, default=None\n",
            "            Configure output of `transform` and `fit_transform`.\n",
            "        \n",
            "            See :ref:`sphx_glr_auto_examples_miscellaneous_plot_set_output.py`\n",
            "            for an example on how to use the API.\n",
            "        \n",
            "            - `\"default\"`: Default output format of a transformer\n",
            "            - `\"pandas\"`: DataFrame output\n",
            "            - `\"polars\"`: Polars output\n",
            "            - `None`: Transform configuration is unchanged\n",
            "        \n",
            "            .. versionadded:: 1.2\n",
            "            .. versionadded:: 1.4\n",
            "                `\"polars\"` option was added.\n",
            "        \n",
            "        enable_metadata_routing : bool, default=None\n",
            "            Enable metadata routing. By default this feature is disabled.\n",
            "        \n",
            "            Refer to :ref:`metadata routing user guide <metadata_routing>` for more\n",
            "            details.\n",
            "        \n",
            "            - `True`: Metadata routing is enabled\n",
            "            - `False`: Metadata routing is disabled, use the old syntax.\n",
            "            - `None`: Configuration is unchanged\n",
            "        \n",
            "            .. versionadded:: 1.3\n",
            "        \n",
            "        skip_parameter_validation : bool, default=None\n",
            "            If `True`, disable the validation of the hyper-parameters' types and values in\n",
            "            the fit method of estimators and for arguments passed to public helper\n",
            "            functions. It can save time in some situations but can lead to low level\n",
            "            crashes and exceptions with confusing error messages.\n",
            "        \n",
            "            Note that for data parameters, such as `X` and `y`, only type validation is\n",
            "            skipped but validation with `check_array` will continue to run.\n",
            "        \n",
            "            .. versionadded:: 1.3\n",
            "        \n",
            "        See Also\n",
            "        --------\n",
            "        config_context : Context manager for global scikit-learn configuration.\n",
            "        get_config : Retrieve current values of the global configuration.\n",
            "        \n",
            "        Examples\n",
            "        --------\n",
            "        >>> from sklearn import set_config\n",
            "        >>> set_config(display='diagram')  # doctest: +SKIP\n",
            "    \n",
            "    show_versions()\n",
            "        Print useful debugging information\"\n",
            "        \n",
            "        .. versionadded:: 0.20\n",
            "        \n",
            "        Examples\n",
            "        --------\n",
            "        >>> from sklearn import show_versions\n",
            "        >>> show_versions()  # doctest: +SKIP\n",
            "\n",
            "DATA\n",
            "    __SKLEARN_SETUP__ = False\n",
            "    __all__ = ['calibration', 'cluster', 'covariance', 'cross_decompositio...\n",
            "\n",
            "VERSION\n",
            "    1.5.2\n",
            "\n",
            "FILE\n",
            "    /usr/local/lib/python3.10/dist-packages/sklearn/__init__.py\n",
            "\n",
            "\n"
          ]
        }
      ],
      "source": [
        "# Importing required libraries\n",
        "import numpy as np  # For numerical computations and array operations\n",
        "import pandas as pd  # For data manipulation and analysis\n",
        "from functools import reduce  # For functional programming utilities\n",
        "import re  # For regular expressions and pattern matching\n",
        "import sklearn\n",
        "help(sklearn)"
      ]
    },
    {
      "cell_type": "code",
      "source": [
        "import matplotlib.pyplot as plt  # For data visualization\n"
      ],
      "metadata": {
        "id": "9iIJmg4eUMSL"
      },
      "execution_count": 77,
      "outputs": []
    },
    {
      "cell_type": "markdown",
      "source": [
        "1. Python Functions"
      ],
      "metadata": {
        "id": "D64UdTn1UVcl"
      }
    },
    {
      "cell_type": "code",
      "source": [
        "# Function with parameters and return value\n",
        "def add_numbers(a, b):\n",
        "    return a + b\n",
        "print(\"Sum:\", add_numbers(5, 10))\n"
      ],
      "metadata": {
        "colab": {
          "base_uri": "https://localhost:8080/"
        },
        "id": "v5vnVn86UOzV",
        "outputId": "c3eea814-60c2-4023-9f91-a374761d7ad3"
      },
      "execution_count": 78,
      "outputs": [
        {
          "output_type": "stream",
          "name": "stdout",
          "text": [
            "Sum: 15\n"
          ]
        }
      ]
    },
    {
      "cell_type": "code",
      "source": [
        "# Function with default argument\n",
        "def greet(name=\"Guest\"):\n",
        "    print(f\"Hello, {name}!\")\n",
        "greet()\n",
        "greet(\"Alice\")"
      ],
      "metadata": {
        "colab": {
          "base_uri": "https://localhost:8080/"
        },
        "id": "CG-LlzXYU3OK",
        "outputId": "ba015bd6-edfb-4ae2-9da4-3aa8b86d49e1"
      },
      "execution_count": 79,
      "outputs": [
        {
          "output_type": "stream",
          "name": "stdout",
          "text": [
            "Hello, Guest!\n",
            "Hello, Alice!\n"
          ]
        }
      ]
    },
    {
      "cell_type": "code",
      "source": [
        "# Recursive function\n",
        "def factorial(n):\n",
        "    if n == 1:\n",
        "        return 1\n",
        "    return n * factorial(n - 1)\n",
        "print(\"Factorial of 5:\", factorial(5))"
      ],
      "metadata": {
        "colab": {
          "base_uri": "https://localhost:8080/"
        },
        "id": "r_EJU40NVV_1",
        "outputId": "9de6c48d-0a46-47f4-f477-d2abd6942006"
      },
      "execution_count": 80,
      "outputs": [
        {
          "output_type": "stream",
          "name": "stdout",
          "text": [
            "Factorial of 5: 120\n"
          ]
        }
      ]
    },
    {
      "cell_type": "code",
      "source": [
        " # Function scope demonstration\n",
        "def myfunc1():\n",
        "  x = \"Jane\"\n",
        "  def myfunc2():\n",
        "    nonlocal x\n",
        "    x = \"hello\"\n",
        "  myfunc2()\n",
        "  return x\n",
        "\n",
        "print(myfunc1())\n",
        "\n",
        "# Function Global scope demonstration\n",
        "\n",
        "\n",
        "def myfunc():\n",
        "  global x\n",
        "  x = 300\n",
        "\n",
        "myfunc()\n",
        "\n",
        "print(x)"
      ],
      "metadata": {
        "colab": {
          "base_uri": "https://localhost:8080/"
        },
        "id": "Lf3smUoQVW_o",
        "outputId": "193411cc-d502-4ff0-aa57-b96dae3f8876"
      },
      "execution_count": 81,
      "outputs": [
        {
          "output_type": "stream",
          "name": "stdout",
          "text": [
            "hello\n",
            "300\n"
          ]
        }
      ]
    },
    {
      "cell_type": "code",
      "source": [
        "# Docstring example\n",
        "def square(a):\n",
        "    '''Returned argument a is squared.'''\n",
        "    return a**a\n",
        "print (square.__doc__)\n",
        "help(square)\n",
        "\n"
      ],
      "metadata": {
        "colab": {
          "base_uri": "https://localhost:8080/"
        },
        "id": "PFrWbHTbVlbH",
        "outputId": "c8eeb133-571e-4f4d-9702-3f245b56b43d"
      },
      "execution_count": 82,
      "outputs": [
        {
          "output_type": "stream",
          "name": "stdout",
          "text": [
            "Returned argument a is squared.\n",
            "Help on function square in module __main__:\n",
            "\n",
            "square(a)\n",
            "    Returned argument a is squared.\n",
            "\n"
          ]
        }
      ]
    },
    {
      "cell_type": "markdown",
      "source": [
        "2. Lambda Functions"
      ],
      "metadata": {
        "id": "neDbrrlwZoQ-"
      }
    },
    {
      "cell_type": "code",
      "source": [
        "# Simple lambda function\n",
        "square = lambda x: x * x\n",
        "print(\"Square of 4:\", square(4))\n",
        "\n"
      ],
      "metadata": {
        "colab": {
          "base_uri": "https://localhost:8080/"
        },
        "id": "UUnS6QqwZnqz",
        "outputId": "8b25bc0b-7960-43cd-f5b3-7341a755b554"
      },
      "execution_count": 83,
      "outputs": [
        {
          "output_type": "stream",
          "name": "stdout",
          "text": [
            "Square of 4: 16\n"
          ]
        }
      ]
    },
    {
      "cell_type": "code",
      "source": [
        "# Using lambda with map\n",
        "numbers = [1, 2, 3, 4]\n",
        "squared = list(map(lambda x: x**2, numbers))\n",
        "print(\"Squared numbers:\", squared)\n",
        "\n"
      ],
      "metadata": {
        "colab": {
          "base_uri": "https://localhost:8080/"
        },
        "id": "zE9EP8UxZ279",
        "outputId": "36478143-9ed3-472a-d853-d055a6cbb25a"
      },
      "execution_count": 84,
      "outputs": [
        {
          "output_type": "stream",
          "name": "stdout",
          "text": [
            "Squared numbers: [1, 4, 9, 16]\n"
          ]
        }
      ]
    },
    {
      "cell_type": "code",
      "source": [
        "# Using lambda with filter\n",
        "even_numbers = list(filter(lambda x: x % 2 == 0, numbers))\n",
        "print(\"Even numbers:\", even_numbers)\n",
        "\n"
      ],
      "metadata": {
        "colab": {
          "base_uri": "https://localhost:8080/"
        },
        "id": "jOo5HNcZZ4kH",
        "outputId": "360ee5c5-56fb-431c-8a0f-0fc5e2214b2b"
      },
      "execution_count": 85,
      "outputs": [
        {
          "output_type": "stream",
          "name": "stdout",
          "text": [
            "Even numbers: [2, 4]\n"
          ]
        }
      ]
    },
    {
      "cell_type": "code",
      "source": [
        "# Using lambda with reduce\n",
        "from functools import reduce\n",
        "product = reduce(lambda x, y: x * y, numbers)\n",
        "print(\"Product of numbers:\", product)\n"
      ],
      "metadata": {
        "colab": {
          "base_uri": "https://localhost:8080/"
        },
        "id": "Wf1W6gHbZ5k1",
        "outputId": "0ab6fa72-efdc-4588-d599-9c16edc1abbc"
      },
      "execution_count": 86,
      "outputs": [
        {
          "output_type": "stream",
          "name": "stdout",
          "text": [
            "Product of numbers: 24\n"
          ]
        }
      ]
    },
    {
      "cell_type": "markdown",
      "source": [
        "3. NumPy\n",
        "\n"
      ],
      "metadata": {
        "id": "g4Hcv6RdZ8gd"
      }
    },
    {
      "cell_type": "code",
      "source": [
        "import numpy as np\n",
        "\n",
        "# Create arrays\n",
        "array_1d = np.array([1, 2, 3])\n",
        "array_2d = np.array([[1, 2], [3, 4]])\n",
        "array_3d = np.array([[[1, 2], [3, 4]], [[5, 6], [7, 8]]])\n",
        "print(\"1D Array:\", array_1d)\n",
        "print(\"2D Array:\\n\", array_2d)\n",
        "print(\"3D Array:\\n\", array_3d)\n"
      ],
      "metadata": {
        "colab": {
          "base_uri": "https://localhost:8080/"
        },
        "id": "-9kaMMfpaCEV",
        "outputId": "b408ba17-d52a-456e-9395-d879653594d9"
      },
      "execution_count": 87,
      "outputs": [
        {
          "output_type": "stream",
          "name": "stdout",
          "text": [
            "1D Array: [1 2 3]\n",
            "2D Array:\n",
            " [[1 2]\n",
            " [3 4]]\n",
            "3D Array:\n",
            " [[[1 2]\n",
            "  [3 4]]\n",
            "\n",
            " [[5 6]\n",
            "  [7 8]]]\n"
          ]
        }
      ]
    },
    {
      "cell_type": "code",
      "source": [
        "# Arithmetic operations\n",
        "print(\"Array + 2:\", array_1d + 2)\n",
        "\n"
      ],
      "metadata": {
        "colab": {
          "base_uri": "https://localhost:8080/"
        },
        "id": "71ET9yOqaFCs",
        "outputId": "25fb8b0e-19d3-466e-d7e6-2f468000953f"
      },
      "execution_count": 88,
      "outputs": [
        {
          "output_type": "stream",
          "name": "stdout",
          "text": [
            "Array + 2: [3 4 5]\n"
          ]
        }
      ]
    },
    {
      "cell_type": "code",
      "source": [
        "# Indexing and slicing\n",
        "print(\"Element at index 1:\", array_1d[1])\n",
        "print(\"Slice:\", array_2d[0, :])\n",
        "\n"
      ],
      "metadata": {
        "colab": {
          "base_uri": "https://localhost:8080/"
        },
        "id": "RiUdDIPaaGWD",
        "outputId": "ba870fcc-33f9-4f84-814d-204c7ca8cc96"
      },
      "execution_count": 89,
      "outputs": [
        {
          "output_type": "stream",
          "name": "stdout",
          "text": [
            "Element at index 1: 2\n",
            "Slice: [1 2]\n"
          ]
        }
      ]
    },
    {
      "cell_type": "code",
      "source": [
        "# Array manipulation\n",
        "reshaped = array_1d.reshape(3, 1)\n",
        "print(\"Reshaped array:\\n\", reshaped)\n",
        "\n"
      ],
      "metadata": {
        "colab": {
          "base_uri": "https://localhost:8080/"
        },
        "id": "91xK6qLkaHft",
        "outputId": "0d97d3e3-06b2-4e34-9d7d-97d5bf8685af"
      },
      "execution_count": 90,
      "outputs": [
        {
          "output_type": "stream",
          "name": "stdout",
          "text": [
            "Reshaped array:\n",
            " [[1]\n",
            " [2]\n",
            " [3]]\n"
          ]
        }
      ]
    },
    {
      "cell_type": "code",
      "source": [
        "# Random number generator\n",
        "random_array = np.random.rand(3, 3)\n",
        "print(\"Random Array:\\n\", random_array)\n"
      ],
      "metadata": {
        "colab": {
          "base_uri": "https://localhost:8080/"
        },
        "id": "fs0Q0CcPaIuR",
        "outputId": "3689f172-0c9d-440a-cfea-5538e00fdb1d"
      },
      "execution_count": 91,
      "outputs": [
        {
          "output_type": "stream",
          "name": "stdout",
          "text": [
            "Random Array:\n",
            " [[0.33081717 0.87609865 0.86984265]\n",
            " [0.01161813 0.06275582 0.04762325]\n",
            " [0.02298287 0.15500241 0.22890092]]\n"
          ]
        }
      ]
    },
    {
      "cell_type": "markdown",
      "source": [
        "4. Pandas"
      ],
      "metadata": {
        "id": "FkVNgBgAaMLH"
      }
    },
    {
      "cell_type": "code",
      "source": [
        "import pandas as pd\n",
        "\n",
        "# Create DataFrame\n",
        "data = {\"Name\": [\"Alice\", \"Bob\"], \"Age\": [25, 30]}\n",
        "df = pd.DataFrame(data)\n",
        "print(df)\n",
        "\n",
        "\n"
      ],
      "metadata": {
        "colab": {
          "base_uri": "https://localhost:8080/"
        },
        "id": "T7RWV429aSmx",
        "outputId": "671d5a44-9eb8-494f-b929-1f8ecf0f989b"
      },
      "execution_count": 92,
      "outputs": [
        {
          "output_type": "stream",
          "name": "stdout",
          "text": [
            "    Name  Age\n",
            "0  Alice   25\n",
            "1    Bob   30\n"
          ]
        }
      ]
    },
    {
      "cell_type": "code",
      "source": [
        "file_path = '/sample_order_data.txt'  # Update with your file name\n",
        "df=pd.read_csv(file_path)\n",
        "df.head(5)"
      ],
      "metadata": {
        "colab": {
          "base_uri": "https://localhost:8080/",
          "height": 206
        },
        "id": "gWCXPoBOhqqG",
        "outputId": "35e1904a-73a7-405d-f3ee-602fddcbcd71"
      },
      "execution_count": 93,
      "outputs": [
        {
          "output_type": "execute_result",
          "data": {
            "text/plain": [
              "   OrderID  CustomerID   OrderDate  ProductID ProductName  Quantity  \\\n",
              "0      101        1001  2023-01-01       2001   Product A         1   \n",
              "1      102        1002  2023-01-02       2002   Product B         2   \n",
              "2      103        1003  2023-01-03       2003   Product C         3   \n",
              "3      104        1004  2023-01-04       2004   Product D         4   \n",
              "4      105        1005  2023-01-05       2001   Product A         2   \n",
              "\n",
              "   UnitPrice  TotalPrice  \n",
              "0       10.0        10.0  \n",
              "1       15.5        31.0  \n",
              "2       12.0        36.0  \n",
              "3        9.5        38.0  \n",
              "4       10.0        20.0  "
            ],
            "text/html": [
              "\n",
              "  <div id=\"df-c9b21a2e-20d1-4c30-9c78-6949a662af5f\" class=\"colab-df-container\">\n",
              "    <div>\n",
              "<style scoped>\n",
              "    .dataframe tbody tr th:only-of-type {\n",
              "        vertical-align: middle;\n",
              "    }\n",
              "\n",
              "    .dataframe tbody tr th {\n",
              "        vertical-align: top;\n",
              "    }\n",
              "\n",
              "    .dataframe thead th {\n",
              "        text-align: right;\n",
              "    }\n",
              "</style>\n",
              "<table border=\"1\" class=\"dataframe\">\n",
              "  <thead>\n",
              "    <tr style=\"text-align: right;\">\n",
              "      <th></th>\n",
              "      <th>OrderID</th>\n",
              "      <th>CustomerID</th>\n",
              "      <th>OrderDate</th>\n",
              "      <th>ProductID</th>\n",
              "      <th>ProductName</th>\n",
              "      <th>Quantity</th>\n",
              "      <th>UnitPrice</th>\n",
              "      <th>TotalPrice</th>\n",
              "    </tr>\n",
              "  </thead>\n",
              "  <tbody>\n",
              "    <tr>\n",
              "      <th>0</th>\n",
              "      <td>101</td>\n",
              "      <td>1001</td>\n",
              "      <td>2023-01-01</td>\n",
              "      <td>2001</td>\n",
              "      <td>Product A</td>\n",
              "      <td>1</td>\n",
              "      <td>10.0</td>\n",
              "      <td>10.0</td>\n",
              "    </tr>\n",
              "    <tr>\n",
              "      <th>1</th>\n",
              "      <td>102</td>\n",
              "      <td>1002</td>\n",
              "      <td>2023-01-02</td>\n",
              "      <td>2002</td>\n",
              "      <td>Product B</td>\n",
              "      <td>2</td>\n",
              "      <td>15.5</td>\n",
              "      <td>31.0</td>\n",
              "    </tr>\n",
              "    <tr>\n",
              "      <th>2</th>\n",
              "      <td>103</td>\n",
              "      <td>1003</td>\n",
              "      <td>2023-01-03</td>\n",
              "      <td>2003</td>\n",
              "      <td>Product C</td>\n",
              "      <td>3</td>\n",
              "      <td>12.0</td>\n",
              "      <td>36.0</td>\n",
              "    </tr>\n",
              "    <tr>\n",
              "      <th>3</th>\n",
              "      <td>104</td>\n",
              "      <td>1004</td>\n",
              "      <td>2023-01-04</td>\n",
              "      <td>2004</td>\n",
              "      <td>Product D</td>\n",
              "      <td>4</td>\n",
              "      <td>9.5</td>\n",
              "      <td>38.0</td>\n",
              "    </tr>\n",
              "    <tr>\n",
              "      <th>4</th>\n",
              "      <td>105</td>\n",
              "      <td>1005</td>\n",
              "      <td>2023-01-05</td>\n",
              "      <td>2001</td>\n",
              "      <td>Product A</td>\n",
              "      <td>2</td>\n",
              "      <td>10.0</td>\n",
              "      <td>20.0</td>\n",
              "    </tr>\n",
              "  </tbody>\n",
              "</table>\n",
              "</div>\n",
              "    <div class=\"colab-df-buttons\">\n",
              "\n",
              "  <div class=\"colab-df-container\">\n",
              "    <button class=\"colab-df-convert\" onclick=\"convertToInteractive('df-c9b21a2e-20d1-4c30-9c78-6949a662af5f')\"\n",
              "            title=\"Convert this dataframe to an interactive table.\"\n",
              "            style=\"display:none;\">\n",
              "\n",
              "  <svg xmlns=\"http://www.w3.org/2000/svg\" height=\"24px\" viewBox=\"0 -960 960 960\">\n",
              "    <path d=\"M120-120v-720h720v720H120Zm60-500h600v-160H180v160Zm220 220h160v-160H400v160Zm0 220h160v-160H400v160ZM180-400h160v-160H180v160Zm440 0h160v-160H620v160ZM180-180h160v-160H180v160Zm440 0h160v-160H620v160Z\"/>\n",
              "  </svg>\n",
              "    </button>\n",
              "\n",
              "  <style>\n",
              "    .colab-df-container {\n",
              "      display:flex;\n",
              "      gap: 12px;\n",
              "    }\n",
              "\n",
              "    .colab-df-convert {\n",
              "      background-color: #E8F0FE;\n",
              "      border: none;\n",
              "      border-radius: 50%;\n",
              "      cursor: pointer;\n",
              "      display: none;\n",
              "      fill: #1967D2;\n",
              "      height: 32px;\n",
              "      padding: 0 0 0 0;\n",
              "      width: 32px;\n",
              "    }\n",
              "\n",
              "    .colab-df-convert:hover {\n",
              "      background-color: #E2EBFA;\n",
              "      box-shadow: 0px 1px 2px rgba(60, 64, 67, 0.3), 0px 1px 3px 1px rgba(60, 64, 67, 0.15);\n",
              "      fill: #174EA6;\n",
              "    }\n",
              "\n",
              "    .colab-df-buttons div {\n",
              "      margin-bottom: 4px;\n",
              "    }\n",
              "\n",
              "    [theme=dark] .colab-df-convert {\n",
              "      background-color: #3B4455;\n",
              "      fill: #D2E3FC;\n",
              "    }\n",
              "\n",
              "    [theme=dark] .colab-df-convert:hover {\n",
              "      background-color: #434B5C;\n",
              "      box-shadow: 0px 1px 3px 1px rgba(0, 0, 0, 0.15);\n",
              "      filter: drop-shadow(0px 1px 2px rgba(0, 0, 0, 0.3));\n",
              "      fill: #FFFFFF;\n",
              "    }\n",
              "  </style>\n",
              "\n",
              "    <script>\n",
              "      const buttonEl =\n",
              "        document.querySelector('#df-c9b21a2e-20d1-4c30-9c78-6949a662af5f button.colab-df-convert');\n",
              "      buttonEl.style.display =\n",
              "        google.colab.kernel.accessAllowed ? 'block' : 'none';\n",
              "\n",
              "      async function convertToInteractive(key) {\n",
              "        const element = document.querySelector('#df-c9b21a2e-20d1-4c30-9c78-6949a662af5f');\n",
              "        const dataTable =\n",
              "          await google.colab.kernel.invokeFunction('convertToInteractive',\n",
              "                                                    [key], {});\n",
              "        if (!dataTable) return;\n",
              "\n",
              "        const docLinkHtml = 'Like what you see? Visit the ' +\n",
              "          '<a target=\"_blank\" href=https://colab.research.google.com/notebooks/data_table.ipynb>data table notebook</a>'\n",
              "          + ' to learn more about interactive tables.';\n",
              "        element.innerHTML = '';\n",
              "        dataTable['output_type'] = 'display_data';\n",
              "        await google.colab.output.renderOutput(dataTable, element);\n",
              "        const docLink = document.createElement('div');\n",
              "        docLink.innerHTML = docLinkHtml;\n",
              "        element.appendChild(docLink);\n",
              "      }\n",
              "    </script>\n",
              "  </div>\n",
              "\n",
              "\n",
              "<div id=\"df-0447fb79-9ec0-481d-8d78-b4bfb18dc4f9\">\n",
              "  <button class=\"colab-df-quickchart\" onclick=\"quickchart('df-0447fb79-9ec0-481d-8d78-b4bfb18dc4f9')\"\n",
              "            title=\"Suggest charts\"\n",
              "            style=\"display:none;\">\n",
              "\n",
              "<svg xmlns=\"http://www.w3.org/2000/svg\" height=\"24px\"viewBox=\"0 0 24 24\"\n",
              "     width=\"24px\">\n",
              "    <g>\n",
              "        <path d=\"M19 3H5c-1.1 0-2 .9-2 2v14c0 1.1.9 2 2 2h14c1.1 0 2-.9 2-2V5c0-1.1-.9-2-2-2zM9 17H7v-7h2v7zm4 0h-2V7h2v10zm4 0h-2v-4h2v4z\"/>\n",
              "    </g>\n",
              "</svg>\n",
              "  </button>\n",
              "\n",
              "<style>\n",
              "  .colab-df-quickchart {\n",
              "      --bg-color: #E8F0FE;\n",
              "      --fill-color: #1967D2;\n",
              "      --hover-bg-color: #E2EBFA;\n",
              "      --hover-fill-color: #174EA6;\n",
              "      --disabled-fill-color: #AAA;\n",
              "      --disabled-bg-color: #DDD;\n",
              "  }\n",
              "\n",
              "  [theme=dark] .colab-df-quickchart {\n",
              "      --bg-color: #3B4455;\n",
              "      --fill-color: #D2E3FC;\n",
              "      --hover-bg-color: #434B5C;\n",
              "      --hover-fill-color: #FFFFFF;\n",
              "      --disabled-bg-color: #3B4455;\n",
              "      --disabled-fill-color: #666;\n",
              "  }\n",
              "\n",
              "  .colab-df-quickchart {\n",
              "    background-color: var(--bg-color);\n",
              "    border: none;\n",
              "    border-radius: 50%;\n",
              "    cursor: pointer;\n",
              "    display: none;\n",
              "    fill: var(--fill-color);\n",
              "    height: 32px;\n",
              "    padding: 0;\n",
              "    width: 32px;\n",
              "  }\n",
              "\n",
              "  .colab-df-quickchart:hover {\n",
              "    background-color: var(--hover-bg-color);\n",
              "    box-shadow: 0 1px 2px rgba(60, 64, 67, 0.3), 0 1px 3px 1px rgba(60, 64, 67, 0.15);\n",
              "    fill: var(--button-hover-fill-color);\n",
              "  }\n",
              "\n",
              "  .colab-df-quickchart-complete:disabled,\n",
              "  .colab-df-quickchart-complete:disabled:hover {\n",
              "    background-color: var(--disabled-bg-color);\n",
              "    fill: var(--disabled-fill-color);\n",
              "    box-shadow: none;\n",
              "  }\n",
              "\n",
              "  .colab-df-spinner {\n",
              "    border: 2px solid var(--fill-color);\n",
              "    border-color: transparent;\n",
              "    border-bottom-color: var(--fill-color);\n",
              "    animation:\n",
              "      spin 1s steps(1) infinite;\n",
              "  }\n",
              "\n",
              "  @keyframes spin {\n",
              "    0% {\n",
              "      border-color: transparent;\n",
              "      border-bottom-color: var(--fill-color);\n",
              "      border-left-color: var(--fill-color);\n",
              "    }\n",
              "    20% {\n",
              "      border-color: transparent;\n",
              "      border-left-color: var(--fill-color);\n",
              "      border-top-color: var(--fill-color);\n",
              "    }\n",
              "    30% {\n",
              "      border-color: transparent;\n",
              "      border-left-color: var(--fill-color);\n",
              "      border-top-color: var(--fill-color);\n",
              "      border-right-color: var(--fill-color);\n",
              "    }\n",
              "    40% {\n",
              "      border-color: transparent;\n",
              "      border-right-color: var(--fill-color);\n",
              "      border-top-color: var(--fill-color);\n",
              "    }\n",
              "    60% {\n",
              "      border-color: transparent;\n",
              "      border-right-color: var(--fill-color);\n",
              "    }\n",
              "    80% {\n",
              "      border-color: transparent;\n",
              "      border-right-color: var(--fill-color);\n",
              "      border-bottom-color: var(--fill-color);\n",
              "    }\n",
              "    90% {\n",
              "      border-color: transparent;\n",
              "      border-bottom-color: var(--fill-color);\n",
              "    }\n",
              "  }\n",
              "</style>\n",
              "\n",
              "  <script>\n",
              "    async function quickchart(key) {\n",
              "      const quickchartButtonEl =\n",
              "        document.querySelector('#' + key + ' button');\n",
              "      quickchartButtonEl.disabled = true;  // To prevent multiple clicks.\n",
              "      quickchartButtonEl.classList.add('colab-df-spinner');\n",
              "      try {\n",
              "        const charts = await google.colab.kernel.invokeFunction(\n",
              "            'suggestCharts', [key], {});\n",
              "      } catch (error) {\n",
              "        console.error('Error during call to suggestCharts:', error);\n",
              "      }\n",
              "      quickchartButtonEl.classList.remove('colab-df-spinner');\n",
              "      quickchartButtonEl.classList.add('colab-df-quickchart-complete');\n",
              "    }\n",
              "    (() => {\n",
              "      let quickchartButtonEl =\n",
              "        document.querySelector('#df-0447fb79-9ec0-481d-8d78-b4bfb18dc4f9 button');\n",
              "      quickchartButtonEl.style.display =\n",
              "        google.colab.kernel.accessAllowed ? 'block' : 'none';\n",
              "    })();\n",
              "  </script>\n",
              "</div>\n",
              "\n",
              "    </div>\n",
              "  </div>\n"
            ],
            "application/vnd.google.colaboratory.intrinsic+json": {
              "type": "dataframe",
              "variable_name": "df",
              "summary": "{\n  \"name\": \"df\",\n  \"rows\": 15,\n  \"fields\": [\n    {\n      \"column\": \"OrderID\",\n      \"properties\": {\n        \"dtype\": \"number\",\n        \"std\": 4,\n        \"min\": 101,\n        \"max\": 115,\n        \"num_unique_values\": 15,\n        \"samples\": [\n          110,\n          112,\n          101\n        ],\n        \"semantic_type\": \"\",\n        \"description\": \"\"\n      }\n    },\n    {\n      \"column\": \"CustomerID\",\n      \"properties\": {\n        \"dtype\": \"number\",\n        \"std\": 1,\n        \"min\": 1001,\n        \"max\": 1005,\n        \"num_unique_values\": 5,\n        \"samples\": [\n          1002,\n          1005,\n          1003\n        ],\n        \"semantic_type\": \"\",\n        \"description\": \"\"\n      }\n    },\n    {\n      \"column\": \"OrderDate\",\n      \"properties\": {\n        \"dtype\": \"object\",\n        \"num_unique_values\": 15,\n        \"samples\": [\n          \"2023-01-10\",\n          \"2023-01-12\",\n          \"2023-01-01\"\n        ],\n        \"semantic_type\": \"\",\n        \"description\": \"\"\n      }\n    },\n    {\n      \"column\": \"ProductID\",\n      \"properties\": {\n        \"dtype\": \"number\",\n        \"std\": 1,\n        \"min\": 2001,\n        \"max\": 2004,\n        \"num_unique_values\": 4,\n        \"samples\": [\n          2002,\n          2004,\n          2001\n        ],\n        \"semantic_type\": \"\",\n        \"description\": \"\"\n      }\n    },\n    {\n      \"column\": \"ProductName\",\n      \"properties\": {\n        \"dtype\": \"category\",\n        \"num_unique_values\": 4,\n        \"samples\": [\n          \"Product B\",\n          \"Product D\",\n          \"Product A\"\n        ],\n        \"semantic_type\": \"\",\n        \"description\": \"\"\n      }\n    },\n    {\n      \"column\": \"Quantity\",\n      \"properties\": {\n        \"dtype\": \"number\",\n        \"std\": 1,\n        \"min\": 1,\n        \"max\": 4,\n        \"num_unique_values\": 4,\n        \"samples\": [\n          2,\n          4,\n          1\n        ],\n        \"semantic_type\": \"\",\n        \"description\": \"\"\n      }\n    },\n    {\n      \"column\": \"UnitPrice\",\n      \"properties\": {\n        \"dtype\": \"number\",\n        \"std\": 2.443650664769531,\n        \"min\": 9.5,\n        \"max\": 15.5,\n        \"num_unique_values\": 4,\n        \"samples\": [\n          15.5,\n          9.5,\n          10.0\n        ],\n        \"semantic_type\": \"\",\n        \"description\": \"\"\n      }\n    },\n    {\n      \"column\": \"TotalPrice\",\n      \"properties\": {\n        \"dtype\": \"number\",\n        \"std\": 12.52806373516598,\n        \"min\": 10.0,\n        \"max\": 46.5,\n        \"num_unique_values\": 10,\n        \"samples\": [\n          15.5,\n          31.0,\n          46.5\n        ],\n        \"semantic_type\": \"\",\n        \"description\": \"\"\n      }\n    }\n  ]\n}"
            }
          },
          "metadata": {},
          "execution_count": 93
        }
      ]
    },
    {
      "cell_type": "code",
      "source": [
        "df.fillna(0, inplace=True)"
      ],
      "metadata": {
        "id": "8kaQwC8sraPl"
      },
      "execution_count": 94,
      "outputs": []
    },
    {
      "cell_type": "code",
      "source": [
        "pivot_table = df.pivot_table(\n",
        "    index=\"CustomerID\",        # Rows\n",
        "    columns=\"ProductName\",    # Columns\n",
        "    values=\"Quantity\",        # Values to aggregate\n",
        "    aggfunc=\"sum\",            # Aggregation function\n",
        "    fill_value=0              # Fill NaN with 0\n",
        ")\n",
        "# Reset the index for better readability\n",
        "pivot_table.reset_index(inplace=True)\n",
        "\n",
        "# Display the pivoted DataFrame\n",
        "print(pivot_table)"
      ],
      "metadata": {
        "colab": {
          "base_uri": "https://localhost:8080/"
        },
        "id": "axPGKEVkqzuP",
        "outputId": "ffafef9d-26ef-460d-a22a-398d2a398366"
      },
      "execution_count": 95,
      "outputs": [
        {
          "output_type": "stream",
          "name": "stdout",
          "text": [
            "ProductName  CustomerID  Product A  Product B  Product C  Product D\n",
            "0                  1001          1          3          2          0\n",
            "1                  1002          0          2          1          4\n",
            "2                  1003          2          0          3          4\n",
            "3                  1004          3          3          0          4\n",
            "4                  1005          2          1          1          0\n"
          ]
        }
      ]
    },
    {
      "cell_type": "markdown",
      "source": [
        "5. If Statements"
      ],
      "metadata": {
        "id": "JZS6bH90bBR7"
      }
    },
    {
      "cell_type": "code",
      "source": [
        "age = 20\n",
        "if age < 18:\n",
        "    print(\"Minor\")\n",
        "elif age >= 18 and age < 60:\n",
        "    print(\"Adult\")\n",
        "else:\n",
        "    print(\"Senior Citizen\")"
      ],
      "metadata": {
        "colab": {
          "base_uri": "https://localhost:8080/"
        },
        "id": "BVAYJysTaY5B",
        "outputId": "6fd76189-5dd3-46ef-8652-8872fcfa15cb"
      },
      "execution_count": 96,
      "outputs": [
        {
          "output_type": "stream",
          "name": "stdout",
          "text": [
            "Adult\n"
          ]
        }
      ]
    },
    {
      "cell_type": "markdown",
      "source": [
        "6. Loops"
      ],
      "metadata": {
        "id": "TBuds8G5bK44"
      }
    },
    {
      "cell_type": "code",
      "source": [
        "# For loop\n",
        "for i in range(5):\n",
        "    print(\"For loop iteration:\", i)\n",
        "\n",
        "\n"
      ],
      "metadata": {
        "colab": {
          "base_uri": "https://localhost:8080/"
        },
        "id": "-WSGDiAHa9Rj",
        "outputId": "cd88704f-db60-4ad5-fae1-616cc729421e"
      },
      "execution_count": 97,
      "outputs": [
        {
          "output_type": "stream",
          "name": "stdout",
          "text": [
            "For loop iteration: 0\n",
            "For loop iteration: 1\n",
            "For loop iteration: 2\n",
            "For loop iteration: 3\n",
            "For loop iteration: 4\n"
          ]
        }
      ]
    },
    {
      "cell_type": "code",
      "source": [
        "# While loop\n",
        "count = 0\n",
        "while count < 3:\n",
        "    print(\"Count:\", count)\n",
        "    count += 1\n",
        "\n"
      ],
      "metadata": {
        "id": "xlr9ewnhU1uW",
        "colab": {
          "base_uri": "https://localhost:8080/"
        },
        "outputId": "1c1cc7f7-2923-4350-ec51-d1fc3f30541a"
      },
      "execution_count": 98,
      "outputs": [
        {
          "output_type": "stream",
          "name": "stdout",
          "text": [
            "Count: 0\n",
            "Count: 1\n",
            "Count: 2\n"
          ]
        }
      ]
    },
    {
      "cell_type": "code",
      "source": [
        "# Nested loop\n",
        "for i in range(2):\n",
        "    for j in range(2):\n",
        "        print(f\"i={i}, j={j}\")"
      ],
      "metadata": {
        "id": "-cdm4vlYU5R_",
        "colab": {
          "base_uri": "https://localhost:8080/"
        },
        "outputId": "5444976f-8b2a-4d1f-fdab-5305492c47de"
      },
      "execution_count": 99,
      "outputs": [
        {
          "output_type": "stream",
          "name": "stdout",
          "text": [
            "i=0, j=0\n",
            "i=0, j=1\n",
            "i=1, j=0\n",
            "i=1, j=1\n"
          ]
        }
      ]
    },
    {
      "cell_type": "markdown",
      "source": [
        "7. Lists, Tuples, Sets, Dictionaries\n"
      ],
      "metadata": {
        "id": "Wq389xjnU_S4"
      }
    },
    {
      "cell_type": "code",
      "source": [
        "# Lists\n",
        "lst = [1, 2, 3]\n",
        "lst.append(4)\n",
        "print(\"List:\", lst)\n",
        "\n",
        "# Tuples\n",
        "tpl = (1, 2, 3)\n",
        "print(\"Tuple:\", tpl)\n",
        "\n",
        "# Sets\n",
        "st = {1, 2, 3}\n",
        "st.add(4)\n",
        "print(\"Set:\", st)\n",
        "\n",
        "# Dictionaries\n",
        "dct = {\"key1\": \"value1\"}\n",
        "dct[\"key2\"] = \"value2\"\n",
        "print(\"Dictionary:\", dct)\n",
        "\n"
      ],
      "metadata": {
        "colab": {
          "base_uri": "https://localhost:8080/"
        },
        "id": "18h58jfrU67N",
        "outputId": "5c753244-090d-414f-9878-83c0b621048f"
      },
      "execution_count": 100,
      "outputs": [
        {
          "output_type": "stream",
          "name": "stdout",
          "text": [
            "List: [1, 2, 3, 4]\n",
            "Tuple: (1, 2, 3)\n",
            "Set: {1, 2, 3, 4}\n",
            "Dictionary: {'key1': 'value1', 'key2': 'value2'}\n"
          ]
        }
      ]
    },
    {
      "cell_type": "markdown",
      "source": [
        "8. Operators"
      ],
      "metadata": {
        "id": "f_9M1GDRVf0s"
      }
    },
    {
      "cell_type": "code",
      "source": [
        "a = 10\n",
        "b = 20\n",
        "\n",
        "# Arithmetic\n",
        "print(\"Addition:\", a + b)\n",
        "\n",
        "# Comparison\n",
        "print(\"Equal:\", a == b)\n",
        "\n",
        "# Logical\n",
        "print(\"Logical AND:\", a > 5 and b > 15)\n",
        "\n",
        "# Assignment\n",
        "a += 5\n",
        "print(\"Updated a:\", a)\n"
      ],
      "metadata": {
        "colab": {
          "base_uri": "https://localhost:8080/"
        },
        "id": "0Orz6xrGVIqh",
        "outputId": "d0cab803-a51e-4e09-ebb7-aa3b5bd2d0b7"
      },
      "execution_count": 101,
      "outputs": [
        {
          "output_type": "stream",
          "name": "stdout",
          "text": [
            "Addition: 30\n",
            "Equal: False\n",
            "Logical AND: True\n",
            "Updated a: 15\n"
          ]
        }
      ]
    },
    {
      "cell_type": "markdown",
      "source": [
        " 9. Reading CSV Files"
      ],
      "metadata": {
        "id": "ze9pqEfcVs9q"
      }
    },
    {
      "cell_type": "code",
      "source": [
        "from google.colab import files\n",
        "import pandas as pd\n",
        "\n",
        "file_path = '/sample_order_data.txt'    # Update with your file name\n",
        "df=pd.read_csv(file_path)\n",
        "df.head(5)"
      ],
      "metadata": {
        "colab": {
          "base_uri": "https://localhost:8080/",
          "height": 206
        },
        "id": "P-n7sMHUVzBt",
        "outputId": "fb10b4ed-297a-4804-caef-262a861dfa65"
      },
      "execution_count": 102,
      "outputs": [
        {
          "output_type": "execute_result",
          "data": {
            "text/plain": [
              "   OrderID  CustomerID   OrderDate  ProductID ProductName  Quantity  \\\n",
              "0      101        1001  2023-01-01       2001   Product A         1   \n",
              "1      102        1002  2023-01-02       2002   Product B         2   \n",
              "2      103        1003  2023-01-03       2003   Product C         3   \n",
              "3      104        1004  2023-01-04       2004   Product D         4   \n",
              "4      105        1005  2023-01-05       2001   Product A         2   \n",
              "\n",
              "   UnitPrice  TotalPrice  \n",
              "0       10.0        10.0  \n",
              "1       15.5        31.0  \n",
              "2       12.0        36.0  \n",
              "3        9.5        38.0  \n",
              "4       10.0        20.0  "
            ],
            "text/html": [
              "\n",
              "  <div id=\"df-1594e038-9d8e-45bd-9b62-40ea2b881d9f\" class=\"colab-df-container\">\n",
              "    <div>\n",
              "<style scoped>\n",
              "    .dataframe tbody tr th:only-of-type {\n",
              "        vertical-align: middle;\n",
              "    }\n",
              "\n",
              "    .dataframe tbody tr th {\n",
              "        vertical-align: top;\n",
              "    }\n",
              "\n",
              "    .dataframe thead th {\n",
              "        text-align: right;\n",
              "    }\n",
              "</style>\n",
              "<table border=\"1\" class=\"dataframe\">\n",
              "  <thead>\n",
              "    <tr style=\"text-align: right;\">\n",
              "      <th></th>\n",
              "      <th>OrderID</th>\n",
              "      <th>CustomerID</th>\n",
              "      <th>OrderDate</th>\n",
              "      <th>ProductID</th>\n",
              "      <th>ProductName</th>\n",
              "      <th>Quantity</th>\n",
              "      <th>UnitPrice</th>\n",
              "      <th>TotalPrice</th>\n",
              "    </tr>\n",
              "  </thead>\n",
              "  <tbody>\n",
              "    <tr>\n",
              "      <th>0</th>\n",
              "      <td>101</td>\n",
              "      <td>1001</td>\n",
              "      <td>2023-01-01</td>\n",
              "      <td>2001</td>\n",
              "      <td>Product A</td>\n",
              "      <td>1</td>\n",
              "      <td>10.0</td>\n",
              "      <td>10.0</td>\n",
              "    </tr>\n",
              "    <tr>\n",
              "      <th>1</th>\n",
              "      <td>102</td>\n",
              "      <td>1002</td>\n",
              "      <td>2023-01-02</td>\n",
              "      <td>2002</td>\n",
              "      <td>Product B</td>\n",
              "      <td>2</td>\n",
              "      <td>15.5</td>\n",
              "      <td>31.0</td>\n",
              "    </tr>\n",
              "    <tr>\n",
              "      <th>2</th>\n",
              "      <td>103</td>\n",
              "      <td>1003</td>\n",
              "      <td>2023-01-03</td>\n",
              "      <td>2003</td>\n",
              "      <td>Product C</td>\n",
              "      <td>3</td>\n",
              "      <td>12.0</td>\n",
              "      <td>36.0</td>\n",
              "    </tr>\n",
              "    <tr>\n",
              "      <th>3</th>\n",
              "      <td>104</td>\n",
              "      <td>1004</td>\n",
              "      <td>2023-01-04</td>\n",
              "      <td>2004</td>\n",
              "      <td>Product D</td>\n",
              "      <td>4</td>\n",
              "      <td>9.5</td>\n",
              "      <td>38.0</td>\n",
              "    </tr>\n",
              "    <tr>\n",
              "      <th>4</th>\n",
              "      <td>105</td>\n",
              "      <td>1005</td>\n",
              "      <td>2023-01-05</td>\n",
              "      <td>2001</td>\n",
              "      <td>Product A</td>\n",
              "      <td>2</td>\n",
              "      <td>10.0</td>\n",
              "      <td>20.0</td>\n",
              "    </tr>\n",
              "  </tbody>\n",
              "</table>\n",
              "</div>\n",
              "    <div class=\"colab-df-buttons\">\n",
              "\n",
              "  <div class=\"colab-df-container\">\n",
              "    <button class=\"colab-df-convert\" onclick=\"convertToInteractive('df-1594e038-9d8e-45bd-9b62-40ea2b881d9f')\"\n",
              "            title=\"Convert this dataframe to an interactive table.\"\n",
              "            style=\"display:none;\">\n",
              "\n",
              "  <svg xmlns=\"http://www.w3.org/2000/svg\" height=\"24px\" viewBox=\"0 -960 960 960\">\n",
              "    <path d=\"M120-120v-720h720v720H120Zm60-500h600v-160H180v160Zm220 220h160v-160H400v160Zm0 220h160v-160H400v160ZM180-400h160v-160H180v160Zm440 0h160v-160H620v160ZM180-180h160v-160H180v160Zm440 0h160v-160H620v160Z\"/>\n",
              "  </svg>\n",
              "    </button>\n",
              "\n",
              "  <style>\n",
              "    .colab-df-container {\n",
              "      display:flex;\n",
              "      gap: 12px;\n",
              "    }\n",
              "\n",
              "    .colab-df-convert {\n",
              "      background-color: #E8F0FE;\n",
              "      border: none;\n",
              "      border-radius: 50%;\n",
              "      cursor: pointer;\n",
              "      display: none;\n",
              "      fill: #1967D2;\n",
              "      height: 32px;\n",
              "      padding: 0 0 0 0;\n",
              "      width: 32px;\n",
              "    }\n",
              "\n",
              "    .colab-df-convert:hover {\n",
              "      background-color: #E2EBFA;\n",
              "      box-shadow: 0px 1px 2px rgba(60, 64, 67, 0.3), 0px 1px 3px 1px rgba(60, 64, 67, 0.15);\n",
              "      fill: #174EA6;\n",
              "    }\n",
              "\n",
              "    .colab-df-buttons div {\n",
              "      margin-bottom: 4px;\n",
              "    }\n",
              "\n",
              "    [theme=dark] .colab-df-convert {\n",
              "      background-color: #3B4455;\n",
              "      fill: #D2E3FC;\n",
              "    }\n",
              "\n",
              "    [theme=dark] .colab-df-convert:hover {\n",
              "      background-color: #434B5C;\n",
              "      box-shadow: 0px 1px 3px 1px rgba(0, 0, 0, 0.15);\n",
              "      filter: drop-shadow(0px 1px 2px rgba(0, 0, 0, 0.3));\n",
              "      fill: #FFFFFF;\n",
              "    }\n",
              "  </style>\n",
              "\n",
              "    <script>\n",
              "      const buttonEl =\n",
              "        document.querySelector('#df-1594e038-9d8e-45bd-9b62-40ea2b881d9f button.colab-df-convert');\n",
              "      buttonEl.style.display =\n",
              "        google.colab.kernel.accessAllowed ? 'block' : 'none';\n",
              "\n",
              "      async function convertToInteractive(key) {\n",
              "        const element = document.querySelector('#df-1594e038-9d8e-45bd-9b62-40ea2b881d9f');\n",
              "        const dataTable =\n",
              "          await google.colab.kernel.invokeFunction('convertToInteractive',\n",
              "                                                    [key], {});\n",
              "        if (!dataTable) return;\n",
              "\n",
              "        const docLinkHtml = 'Like what you see? Visit the ' +\n",
              "          '<a target=\"_blank\" href=https://colab.research.google.com/notebooks/data_table.ipynb>data table notebook</a>'\n",
              "          + ' to learn more about interactive tables.';\n",
              "        element.innerHTML = '';\n",
              "        dataTable['output_type'] = 'display_data';\n",
              "        await google.colab.output.renderOutput(dataTable, element);\n",
              "        const docLink = document.createElement('div');\n",
              "        docLink.innerHTML = docLinkHtml;\n",
              "        element.appendChild(docLink);\n",
              "      }\n",
              "    </script>\n",
              "  </div>\n",
              "\n",
              "\n",
              "<div id=\"df-19ac6039-4e30-420a-a577-8aab8945d27a\">\n",
              "  <button class=\"colab-df-quickchart\" onclick=\"quickchart('df-19ac6039-4e30-420a-a577-8aab8945d27a')\"\n",
              "            title=\"Suggest charts\"\n",
              "            style=\"display:none;\">\n",
              "\n",
              "<svg xmlns=\"http://www.w3.org/2000/svg\" height=\"24px\"viewBox=\"0 0 24 24\"\n",
              "     width=\"24px\">\n",
              "    <g>\n",
              "        <path d=\"M19 3H5c-1.1 0-2 .9-2 2v14c0 1.1.9 2 2 2h14c1.1 0 2-.9 2-2V5c0-1.1-.9-2-2-2zM9 17H7v-7h2v7zm4 0h-2V7h2v10zm4 0h-2v-4h2v4z\"/>\n",
              "    </g>\n",
              "</svg>\n",
              "  </button>\n",
              "\n",
              "<style>\n",
              "  .colab-df-quickchart {\n",
              "      --bg-color: #E8F0FE;\n",
              "      --fill-color: #1967D2;\n",
              "      --hover-bg-color: #E2EBFA;\n",
              "      --hover-fill-color: #174EA6;\n",
              "      --disabled-fill-color: #AAA;\n",
              "      --disabled-bg-color: #DDD;\n",
              "  }\n",
              "\n",
              "  [theme=dark] .colab-df-quickchart {\n",
              "      --bg-color: #3B4455;\n",
              "      --fill-color: #D2E3FC;\n",
              "      --hover-bg-color: #434B5C;\n",
              "      --hover-fill-color: #FFFFFF;\n",
              "      --disabled-bg-color: #3B4455;\n",
              "      --disabled-fill-color: #666;\n",
              "  }\n",
              "\n",
              "  .colab-df-quickchart {\n",
              "    background-color: var(--bg-color);\n",
              "    border: none;\n",
              "    border-radius: 50%;\n",
              "    cursor: pointer;\n",
              "    display: none;\n",
              "    fill: var(--fill-color);\n",
              "    height: 32px;\n",
              "    padding: 0;\n",
              "    width: 32px;\n",
              "  }\n",
              "\n",
              "  .colab-df-quickchart:hover {\n",
              "    background-color: var(--hover-bg-color);\n",
              "    box-shadow: 0 1px 2px rgba(60, 64, 67, 0.3), 0 1px 3px 1px rgba(60, 64, 67, 0.15);\n",
              "    fill: var(--button-hover-fill-color);\n",
              "  }\n",
              "\n",
              "  .colab-df-quickchart-complete:disabled,\n",
              "  .colab-df-quickchart-complete:disabled:hover {\n",
              "    background-color: var(--disabled-bg-color);\n",
              "    fill: var(--disabled-fill-color);\n",
              "    box-shadow: none;\n",
              "  }\n",
              "\n",
              "  .colab-df-spinner {\n",
              "    border: 2px solid var(--fill-color);\n",
              "    border-color: transparent;\n",
              "    border-bottom-color: var(--fill-color);\n",
              "    animation:\n",
              "      spin 1s steps(1) infinite;\n",
              "  }\n",
              "\n",
              "  @keyframes spin {\n",
              "    0% {\n",
              "      border-color: transparent;\n",
              "      border-bottom-color: var(--fill-color);\n",
              "      border-left-color: var(--fill-color);\n",
              "    }\n",
              "    20% {\n",
              "      border-color: transparent;\n",
              "      border-left-color: var(--fill-color);\n",
              "      border-top-color: var(--fill-color);\n",
              "    }\n",
              "    30% {\n",
              "      border-color: transparent;\n",
              "      border-left-color: var(--fill-color);\n",
              "      border-top-color: var(--fill-color);\n",
              "      border-right-color: var(--fill-color);\n",
              "    }\n",
              "    40% {\n",
              "      border-color: transparent;\n",
              "      border-right-color: var(--fill-color);\n",
              "      border-top-color: var(--fill-color);\n",
              "    }\n",
              "    60% {\n",
              "      border-color: transparent;\n",
              "      border-right-color: var(--fill-color);\n",
              "    }\n",
              "    80% {\n",
              "      border-color: transparent;\n",
              "      border-right-color: var(--fill-color);\n",
              "      border-bottom-color: var(--fill-color);\n",
              "    }\n",
              "    90% {\n",
              "      border-color: transparent;\n",
              "      border-bottom-color: var(--fill-color);\n",
              "    }\n",
              "  }\n",
              "</style>\n",
              "\n",
              "  <script>\n",
              "    async function quickchart(key) {\n",
              "      const quickchartButtonEl =\n",
              "        document.querySelector('#' + key + ' button');\n",
              "      quickchartButtonEl.disabled = true;  // To prevent multiple clicks.\n",
              "      quickchartButtonEl.classList.add('colab-df-spinner');\n",
              "      try {\n",
              "        const charts = await google.colab.kernel.invokeFunction(\n",
              "            'suggestCharts', [key], {});\n",
              "      } catch (error) {\n",
              "        console.error('Error during call to suggestCharts:', error);\n",
              "      }\n",
              "      quickchartButtonEl.classList.remove('colab-df-spinner');\n",
              "      quickchartButtonEl.classList.add('colab-df-quickchart-complete');\n",
              "    }\n",
              "    (() => {\n",
              "      let quickchartButtonEl =\n",
              "        document.querySelector('#df-19ac6039-4e30-420a-a577-8aab8945d27a button');\n",
              "      quickchartButtonEl.style.display =\n",
              "        google.colab.kernel.accessAllowed ? 'block' : 'none';\n",
              "    })();\n",
              "  </script>\n",
              "</div>\n",
              "\n",
              "    </div>\n",
              "  </div>\n"
            ],
            "application/vnd.google.colaboratory.intrinsic+json": {
              "type": "dataframe",
              "variable_name": "df",
              "summary": "{\n  \"name\": \"df\",\n  \"rows\": 15,\n  \"fields\": [\n    {\n      \"column\": \"OrderID\",\n      \"properties\": {\n        \"dtype\": \"number\",\n        \"std\": 4,\n        \"min\": 101,\n        \"max\": 115,\n        \"num_unique_values\": 15,\n        \"samples\": [\n          110,\n          112,\n          101\n        ],\n        \"semantic_type\": \"\",\n        \"description\": \"\"\n      }\n    },\n    {\n      \"column\": \"CustomerID\",\n      \"properties\": {\n        \"dtype\": \"number\",\n        \"std\": 1,\n        \"min\": 1001,\n        \"max\": 1005,\n        \"num_unique_values\": 5,\n        \"samples\": [\n          1002,\n          1005,\n          1003\n        ],\n        \"semantic_type\": \"\",\n        \"description\": \"\"\n      }\n    },\n    {\n      \"column\": \"OrderDate\",\n      \"properties\": {\n        \"dtype\": \"object\",\n        \"num_unique_values\": 15,\n        \"samples\": [\n          \"2023-01-10\",\n          \"2023-01-12\",\n          \"2023-01-01\"\n        ],\n        \"semantic_type\": \"\",\n        \"description\": \"\"\n      }\n    },\n    {\n      \"column\": \"ProductID\",\n      \"properties\": {\n        \"dtype\": \"number\",\n        \"std\": 1,\n        \"min\": 2001,\n        \"max\": 2004,\n        \"num_unique_values\": 4,\n        \"samples\": [\n          2002,\n          2004,\n          2001\n        ],\n        \"semantic_type\": \"\",\n        \"description\": \"\"\n      }\n    },\n    {\n      \"column\": \"ProductName\",\n      \"properties\": {\n        \"dtype\": \"category\",\n        \"num_unique_values\": 4,\n        \"samples\": [\n          \"Product B\",\n          \"Product D\",\n          \"Product A\"\n        ],\n        \"semantic_type\": \"\",\n        \"description\": \"\"\n      }\n    },\n    {\n      \"column\": \"Quantity\",\n      \"properties\": {\n        \"dtype\": \"number\",\n        \"std\": 1,\n        \"min\": 1,\n        \"max\": 4,\n        \"num_unique_values\": 4,\n        \"samples\": [\n          2,\n          4,\n          1\n        ],\n        \"semantic_type\": \"\",\n        \"description\": \"\"\n      }\n    },\n    {\n      \"column\": \"UnitPrice\",\n      \"properties\": {\n        \"dtype\": \"number\",\n        \"std\": 2.443650664769531,\n        \"min\": 9.5,\n        \"max\": 15.5,\n        \"num_unique_values\": 4,\n        \"samples\": [\n          15.5,\n          9.5,\n          10.0\n        ],\n        \"semantic_type\": \"\",\n        \"description\": \"\"\n      }\n    },\n    {\n      \"column\": \"TotalPrice\",\n      \"properties\": {\n        \"dtype\": \"number\",\n        \"std\": 12.52806373516598,\n        \"min\": 10.0,\n        \"max\": 46.5,\n        \"num_unique_values\": 10,\n        \"samples\": [\n          15.5,\n          31.0,\n          46.5\n        ],\n        \"semantic_type\": \"\",\n        \"description\": \"\"\n      }\n    }\n  ]\n}"
            }
          },
          "metadata": {},
          "execution_count": 102
        }
      ]
    },
    {
      "cell_type": "markdown",
      "source": [
        "10. Python String Methods"
      ],
      "metadata": {
        "id": "nz3fFH6UZBbn"
      }
    },
    {
      "cell_type": "code",
      "source": [
        "text = \"  Hello, World!  \"\n",
        "\n",
        "# Remove whitespace\n",
        "print(text.strip())\n",
        "\n",
        "# Uppercase\n",
        "print(text.upper())\n",
        "\n",
        "# Slicing\n",
        "print(text[:5])\n",
        "\n",
        "# Find\n",
        "print(text.find(\"World\"))\n"
      ],
      "metadata": {
        "colab": {
          "base_uri": "https://localhost:8080/"
        },
        "id": "76-0YTRUVqSV",
        "outputId": "24b6a754-1633-4266-cdc5-41fcd94ef268"
      },
      "execution_count": 103,
      "outputs": [
        {
          "output_type": "stream",
          "name": "stdout",
          "text": [
            "Hello, World!\n",
            "  HELLO, WORLD!  \n",
            "  Hel\n",
            "9\n"
          ]
        }
      ]
    },
    {
      "cell_type": "markdown",
      "source": [
        "Draw a line in a diagram from position (1, 3) to position (8, 10):"
      ],
      "metadata": {
        "id": "va1fNgZZfm-Y"
      }
    },
    {
      "cell_type": "code",
      "source": [
        "import matplotlib.pyplot as plt\n",
        "import numpy as np\n",
        "\n",
        "xpoints = np.array([1, 8])\n",
        "ypoints = np.array([3, 10])\n",
        "\n",
        "plt.plot(xpoints, ypoints)\n",
        "plt.show()"
      ],
      "metadata": {
        "colab": {
          "base_uri": "https://localhost:8080/",
          "height": 430
        },
        "id": "atNqpPnqfOmM",
        "outputId": "b5c2224a-33f0-47d2-85cd-a737263f440d"
      },
      "execution_count": 104,
      "outputs": [
        {
          "output_type": "display_data",
          "data": {
            "text/plain": [
              "<Figure size 640x480 with 1 Axes>"
            ],
            "image/png": "[encoded data removed]"
          },
          "metadata": {}
        }
      ]
    },
    {
      "cell_type": "markdown",
      "source": [
        "Draw a line in a diagram from position (1, 3) to (2, 8) then to (6, 1) and finally to position (8, 10):"
      ],
      "metadata": {
        "id": "Lvoe5QLWflNc"
      }
    },
    {
      "cell_type": "code",
      "source": [
        "import matplotlib.pyplot as plt\n",
        "import numpy as np\n",
        "\n",
        "xpoints = np.array([1, 2, 6, 8])\n",
        "ypoints = np.array([3, 8, 1, 10])\n",
        "\n",
        "plt.plot(xpoints, ypoints)\n",
        "plt.show()"
      ],
      "metadata": {
        "colab": {
          "base_uri": "https://localhost:8080/",
          "height": 430
        },
        "id": "z-e-5xaofix_",
        "outputId": "44beffa1-6f7d-442e-f992-04b55db8a350"
      },
      "execution_count": 105,
      "outputs": [
        {
          "output_type": "display_data",
          "data": {
            "text/plain": [
              "<Figure size 640x480 with 1 Axes>"
            ],
            "image/png": "[encoded data removed]"
          },
          "metadata": {}
        }
      ]
    },
    {
      "cell_type": "markdown",
      "source": [
        "A simple scatter plot:"
      ],
      "metadata": {
        "id": "W9r67Hf7fwwZ"
      }
    },
    {
      "cell_type": "code",
      "source": [
        "import matplotlib.pyplot as plt\n",
        "import numpy as np\n",
        "\n",
        "x = np.array([5,7,8,7,2,17,2,9,4,11,12,9,6])\n",
        "y = np.array([99,86,87,88,111,86,103,87,94,78,77,85,86])\n",
        "\n",
        "plt.scatter(x, y)\n",
        "plt.show()"
      ],
      "metadata": {
        "colab": {
          "base_uri": "https://localhost:8080/",
          "height": 430
        },
        "id": "VjE819r5fuU3",
        "outputId": "630295f3-5a58-483b-90ce-6be6c4c3891b"
      },
      "execution_count": 106,
      "outputs": [
        {
          "output_type": "display_data",
          "data": {
            "text/plain": [
              "<Figure size 640x480 with 1 Axes>"
            ],
            "image/png": "[encoded data removed]"
          },
          "metadata": {}
        }
      ]
    },
    {
      "cell_type": "markdown",
      "source": [
        "Draw 4 bars:"
      ],
      "metadata": {
        "id": "cD_PDPXIf6JS"
      }
    },
    {
      "cell_type": "code",
      "source": [
        "import matplotlib.pyplot as plt\n",
        "import numpy as np\n",
        "\n",
        "x = np.array([\"A\", \"B\", \"C\", \"D\"])\n",
        "y = np.array([3, 8, 1, 10])\n",
        "\n",
        "plt.bar(x,y)\n",
        "plt.show()"
      ],
      "metadata": {
        "colab": {
          "base_uri": "https://localhost:8080/",
          "height": 430
        },
        "id": "OYXmy79Gf7Dp",
        "outputId": "5cb8b9f1-b745-4767-acbc-ba78df35f06c"
      },
      "execution_count": 107,
      "outputs": [
        {
          "output_type": "display_data",
          "data": {
            "text/plain": [
              "<Figure size 640x480 with 1 Axes>"
            ],
            "image/png": "[encoded data removed]"
          },
          "metadata": {}
        }
      ]
    },
    {
      "cell_type": "markdown",
      "source": [
        "Say you ask for the height of 250 people, you might end up with a histogram like this:"
      ],
      "metadata": {
        "id": "NS0Bi9jrgIDu"
      }
    },
    {
      "cell_type": "code",
      "source": [
        "import matplotlib.pyplot as plt\n",
        "import numpy as np\n",
        "\n",
        "x = np.random.normal(170, 10, 250)\n",
        "\n",
        "plt.hist(x)\n",
        "plt.show()"
      ],
      "metadata": {
        "colab": {
          "base_uri": "https://localhost:8080/",
          "height": 430
        },
        "id": "uASqZO7FgMah",
        "outputId": "12555021-2695-4a78-ee70-df4877216152"
      },
      "execution_count": 108,
      "outputs": [
        {
          "output_type": "display_data",
          "data": {
            "text/plain": [
              "<Figure size 640x480 with 1 Axes>"
            ],
            "image/png": "[encoded data removed]"
          },
          "metadata": {}
        }
      ]
    },
    {
      "cell_type": "markdown",
      "source": [
        "As you can see the pie chart draws one piece (called a wedge) for each value in the array (in this case [35, 25, 25, 15]).\n",
        "\n"
      ],
      "metadata": {
        "id": "XsUFfkWogd6z"
      }
    },
    {
      "cell_type": "code",
      "source": [
        "#By default the plotting of the first wedge starts from the x-axis and moves counterclockwise:\n",
        "\n",
        "import matplotlib.pyplot as plt\n",
        "import numpy as np\n",
        "\n",
        "y = np.array([35, 25, 25, 15])\n",
        "mylabels = [\"Apples\", \"Bananas\", \"Cherries\", \"Dates\"]\n",
        "\n",
        "plt.pie(y,labels = mylabels)\n",
        "plt.show()\n"
      ],
      "metadata": {
        "colab": {
          "base_uri": "https://localhost:8080/",
          "height": 406
        },
        "id": "rb0Ha4ORglcm",
        "outputId": "aad20817-6273-4e65-a161-cfc4646c7ffa"
      },
      "execution_count": 109,
      "outputs": [
        {
          "output_type": "display_data",
          "data": {
            "text/plain": [
              "<Figure size 640x480 with 1 Axes>"
            ],
            "image/png": "[encoded data removed]"
          },
          "metadata": {}
        }
      ]
    }
  ]
}